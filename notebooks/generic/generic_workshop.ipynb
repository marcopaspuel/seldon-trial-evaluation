{
 "cells": [
  {
   "cell_type": "markdown",
   "metadata": {
    "id": "RomFuTAqSW0Z"
   },
   "source": [
    "# Iris Classification\n",
    "This notebook gets you hands-on with Seldon Deploy, demonstrating how you can deploy, monitor, manage and explain machine learning models. \n",
    "\n",
    "In this notebook you will:\n",
    "\n",
    "* Explore the Iris dataset\n",
    "* Train several models on the dataset\n",
    "* Deploy trained models to Seldon\n",
    "* Train an anchor tabular explainer and update Seldon deployment with this explainer\n",
    "* Train an outlier detector (variational autoencoder) and update deployment\n",
    "\n",
    "\n",
    "For each of the machine learning components (the models themselves, explainer and outlier detector) the workflow is the same: \n",
    "1. Train algorithm\n",
    "2. Push trained artefact to Google Storage bucket\n",
    "3. Create deployment on Seldon Deploy via API"
   ]
  },
  {
   "cell_type": "markdown",
   "metadata": {
    "id": "01OHsBI6SW0e"
   },
   "source": [
    "### Import relevant packages"
   ]
  },
  {
   "cell_type": "code",
   "execution_count": 1,
   "metadata": {
    "colab": {
     "base_uri": "https://localhost:8080/"
    },
    "id": "HfKXJ5t5SW0i",
    "outputId": "7e17866f-08ae-4b9c-e20c-21345c2f7dd9"
   },
   "outputs": [
    {
     "name": "stdout",
     "output_type": "stream",
     "text": [
      "Collecting seldon-deploy-sdk\n",
      "  Downloading seldon_deploy_sdk-1.3.0-py3-none-any.whl (714 kB)\n",
      "\u001b[K     |████████████████████████████████| 714 kB 2.6 MB/s eta 0:00:01\n",
      "\u001b[?25hCollecting Authlib<=0.16.0\n",
      "  Downloading Authlib-0.15.4-py2.py3-none-any.whl (203 kB)\n",
      "\u001b[K     |████████████████████████████████| 203 kB 14.9 MB/s eta 0:00:01\n",
      "\u001b[?25hRequirement already satisfied: python-dateutil>=2.1 in /opt/conda/lib/python3.8/site-packages (from seldon-deploy-sdk) (2.8.1)\n",
      "Requirement already satisfied: six>=1.10 in /opt/conda/lib/python3.8/site-packages (from seldon-deploy-sdk) (1.16.0)\n",
      "Requirement already satisfied: certifi>=2017.4.17 in /opt/conda/lib/python3.8/site-packages (from seldon-deploy-sdk) (2020.12.5)\n",
      "Requirement already satisfied: urllib3>=1.23 in /opt/conda/lib/python3.8/site-packages (from seldon-deploy-sdk) (1.26.4)\n",
      "Requirement already satisfied: cryptography in /opt/conda/lib/python3.8/site-packages (from Authlib<=0.16.0->seldon-deploy-sdk) (3.4.7)\n",
      "Requirement already satisfied: cffi>=1.12 in /opt/conda/lib/python3.8/site-packages (from cryptography->Authlib<=0.16.0->seldon-deploy-sdk) (1.14.5)\n",
      "Requirement already satisfied: pycparser in /opt/conda/lib/python3.8/site-packages (from cffi>=1.12->cryptography->Authlib<=0.16.0->seldon-deploy-sdk) (2.20)\n",
      "Installing collected packages: Authlib, seldon-deploy-sdk\n",
      "Successfully installed Authlib-0.15.4 seldon-deploy-sdk-1.3.0\n",
      "Collecting alibi\n",
      "  Downloading alibi-0.6.1-py3-none-any.whl (387 kB)\n",
      "\u001b[K     |████████████████████████████████| 387 kB 2.5 MB/s eta 0:00:01\n",
      "\u001b[?25hRequirement already satisfied: matplotlib<4.0.0,>=3.0.0 in /opt/conda/lib/python3.8/site-packages (from alibi) (3.4.1)\n",
      "Requirement already satisfied: pandas<2.0.0,>=0.23.3 in /opt/conda/lib/python3.8/site-packages (from alibi) (1.2.4)\n",
      "Requirement already satisfied: scikit-image!=0.17.1,<0.19,>=0.14.2 in /opt/conda/lib/python3.8/site-packages (from alibi) (0.18.1)\n",
      "Requirement already satisfied: Pillow<9.0,>=5.4.1 in /opt/conda/lib/python3.8/site-packages (from alibi) (8.1.2)\n",
      "Requirement already satisfied: tqdm<5.0.0,>=4.28.1 in /opt/conda/lib/python3.8/site-packages (from alibi) (4.60.0)\n",
      "Requirement already satisfied: dill<0.4.0,>=0.3.0 in /opt/conda/lib/python3.8/site-packages (from alibi) (0.3.3)\n",
      "Requirement already satisfied: numpy<2.0.0,>=1.16.2 in /opt/conda/lib/python3.8/site-packages (from alibi) (1.20.2)\n",
      "Requirement already satisfied: requests<3.0.0,>=2.21.0 in /opt/conda/lib/python3.8/site-packages (from alibi) (2.25.1)\n",
      "Collecting spacy[lookups]<4.0.0,>=2.0.0\n",
      "  Downloading spacy-3.1.2-cp38-cp38-manylinux_2_17_x86_64.manylinux2014_x86_64.whl (6.1 MB)\n",
      "\u001b[K     |████████████████████████████████| 6.1 MB 8.5 MB/s eta 0:00:01\n",
      "\u001b[?25hRequirement already satisfied: scikit-learn<0.25.0,>=0.20.2 in /opt/conda/lib/python3.8/site-packages (from alibi) (0.24.2)\n",
      "Requirement already satisfied: scipy<2.0.0,>=1.1.0 in /opt/conda/lib/python3.8/site-packages (from alibi) (1.6.3)\n",
      "Collecting tensorflow<2.7.0,>=2.0.0\n",
      "  Downloading tensorflow-2.6.0-cp38-cp38-manylinux2010_x86_64.whl (458.4 MB)\n",
      "\u001b[K     |████████████████████████████████| 458.4 MB 27 kB/s s eta 0:00:01     |████████▋                       | 123.4 MB 25.9 MB/s eta 0:00:13     |█████████████████▉              | 256.0 MB 12.6 MB/s eta 0:00:17     |████████████████████████▋       | 351.9 MB 12.7 MB/s eta 0:00:09     |██████████████████████████████▏ | 432.9 MB 12.6 MB/s eta 0:00:03\n",
      "\u001b[?25hCollecting transformers<5.0.0,>=4.7.0\n",
      "  Downloading transformers-4.10.2-py3-none-any.whl (2.8 MB)\n",
      "\u001b[K     |████████████████████████████████| 2.8 MB 8.3 MB/s eta 0:00:01\n",
      "\u001b[?25hRequirement already satisfied: attrs<22.0.0,>=19.2.0 in /opt/conda/lib/python3.8/site-packages (from alibi) (20.3.0)\n",
      "Requirement already satisfied: cycler>=0.10 in /opt/conda/lib/python3.8/site-packages (from matplotlib<4.0.0,>=3.0.0->alibi) (0.10.0)\n",
      "Requirement already satisfied: pyparsing>=2.2.1 in /opt/conda/lib/python3.8/site-packages (from matplotlib<4.0.0,>=3.0.0->alibi) (2.4.7)\n",
      "Requirement already satisfied: kiwisolver>=1.0.1 in /opt/conda/lib/python3.8/site-packages (from matplotlib<4.0.0,>=3.0.0->alibi) (1.3.1)\n",
      "Requirement already satisfied: python-dateutil>=2.7 in /opt/conda/lib/python3.8/site-packages (from matplotlib<4.0.0,>=3.0.0->alibi) (2.8.1)\n",
      "Requirement already satisfied: six in /opt/conda/lib/python3.8/site-packages (from cycler>=0.10->matplotlib<4.0.0,>=3.0.0->alibi) (1.16.0)\n",
      "Requirement already satisfied: pytz>=2017.3 in /opt/conda/lib/python3.8/site-packages (from pandas<2.0.0,>=0.23.3->alibi) (2021.1)\n",
      "Requirement already satisfied: chardet<5,>=3.0.2 in /opt/conda/lib/python3.8/site-packages (from requests<3.0.0,>=2.21.0->alibi) (4.0.0)\n",
      "Requirement already satisfied: urllib3<1.27,>=1.21.1 in /opt/conda/lib/python3.8/site-packages (from requests<3.0.0,>=2.21.0->alibi) (1.26.4)\n",
      "Requirement already satisfied: idna<3,>=2.5 in /opt/conda/lib/python3.8/site-packages (from requests<3.0.0,>=2.21.0->alibi) (2.10)\n",
      "Requirement already satisfied: certifi>=2017.4.17 in /opt/conda/lib/python3.8/site-packages (from requests<3.0.0,>=2.21.0->alibi) (2020.12.5)\n",
      "Requirement already satisfied: networkx>=2.0 in /opt/conda/lib/python3.8/site-packages (from scikit-image!=0.17.1,<0.19,>=0.14.2->alibi) (2.3)\n",
      "Requirement already satisfied: imageio>=2.3.0 in /opt/conda/lib/python3.8/site-packages (from scikit-image!=0.17.1,<0.19,>=0.14.2->alibi) (2.9.0)\n",
      "Requirement already satisfied: tifffile>=2019.7.26 in /opt/conda/lib/python3.8/site-packages (from scikit-image!=0.17.1,<0.19,>=0.14.2->alibi) (2021.4.8)\n",
      "Requirement already satisfied: PyWavelets>=1.1.1 in /opt/conda/lib/python3.8/site-packages (from scikit-image!=0.17.1,<0.19,>=0.14.2->alibi) (1.1.1)\n",
      "Requirement already satisfied: decorator>=4.3.0 in /opt/conda/lib/python3.8/site-packages (from networkx>=2.0->scikit-image!=0.17.1,<0.19,>=0.14.2->alibi) (5.0.7)\n",
      "Requirement already satisfied: threadpoolctl>=2.0.0 in /opt/conda/lib/python3.8/site-packages (from scikit-learn<0.25.0,>=0.20.2->alibi) (2.1.0)\n",
      "Requirement already satisfied: joblib>=0.11 in /opt/conda/lib/python3.8/site-packages (from scikit-learn<0.25.0,>=0.20.2->alibi) (1.0.1)\n",
      "Collecting spacy-legacy<3.1.0,>=3.0.7\n",
      "  Downloading spacy_legacy-3.0.8-py2.py3-none-any.whl (14 kB)\n",
      "Requirement already satisfied: packaging>=20.0 in /opt/conda/lib/python3.8/site-packages (from spacy[lookups]<4.0.0,>=2.0.0->alibi) (20.9)\n",
      "Collecting thinc<8.1.0,>=8.0.8\n",
      "  Downloading thinc-8.0.10-cp38-cp38-manylinux_2_17_x86_64.manylinux2014_x86_64.whl (632 kB)\n",
      "\u001b[K     |████████████████████████████████| 632 kB 14.8 MB/s eta 0:00:01\n",
      "\u001b[?25hCollecting wasabi<1.1.0,>=0.8.1\n",
      "  Downloading wasabi-0.8.2-py3-none-any.whl (23 kB)\n",
      "Collecting preshed<3.1.0,>=3.0.2\n",
      "  Downloading preshed-3.0.5-cp38-cp38-manylinux2014_x86_64.whl (130 kB)\n",
      "\u001b[K     |████████████████████████████████| 130 kB 15.6 MB/s eta 0:00:01\n",
      "\u001b[?25hRequirement already satisfied: jinja2 in /opt/conda/lib/python3.8/site-packages (from spacy[lookups]<4.0.0,>=2.0.0->alibi) (2.11.3)\n",
      "Requirement already satisfied: setuptools in /opt/conda/lib/python3.8/site-packages (from spacy[lookups]<4.0.0,>=2.0.0->alibi) (49.6.0.post20210108)\n",
      "Collecting typer<0.4.0,>=0.3.0\n",
      "  Downloading typer-0.3.2-py3-none-any.whl (21 kB)\n",
      "Collecting catalogue<2.1.0,>=2.0.4\n",
      "  Downloading catalogue-2.0.6-py3-none-any.whl (17 kB)\n",
      "Collecting pathy>=0.3.5\n",
      "  Downloading pathy-0.6.0-py3-none-any.whl (42 kB)\n",
      "\u001b[K     |████████████████████████████████| 42 kB 4.4 MB/s  eta 0:00:01\n",
      "\u001b[?25hCollecting blis<0.8.0,>=0.4.0\n",
      "  Downloading blis-0.7.4-cp38-cp38-manylinux2014_x86_64.whl (9.8 MB)\n",
      "\u001b[K     |████████████████████████████████| 9.8 MB 26.5 MB/s eta 0:00:01\n",
      "\u001b[?25hCollecting murmurhash<1.1.0,>=0.28.0\n",
      "  Downloading murmurhash-1.0.5-cp38-cp38-manylinux2014_x86_64.whl (20 kB)\n",
      "Collecting cymem<2.1.0,>=2.0.2\n",
      "  Downloading cymem-2.0.5-cp38-cp38-manylinux2014_x86_64.whl (35 kB)\n",
      "Collecting pydantic!=1.8,!=1.8.1,<1.9.0,>=1.7.4\n",
      "  Downloading pydantic-1.8.2-cp38-cp38-manylinux2014_x86_64.whl (13.7 MB)\n",
      "\u001b[K     |████████████████████████████████| 13.7 MB 13.6 MB/s eta 0:00:01    |██████████████▊                 | 6.3 MB 13.6 MB/s eta 0:00:01     |█████████████████████▉          | 9.3 MB 13.6 MB/s eta 0:00:01\n",
      "\u001b[?25hCollecting srsly<3.0.0,>=2.4.1\n",
      "  Downloading srsly-2.4.1-cp38-cp38-manylinux2014_x86_64.whl (458 kB)\n"
     ]
    },
    {
     "name": "stdout",
     "output_type": "stream",
     "text": [
      "\u001b[K     |████████████████████████████████| 458 kB 25.5 MB/s eta 0:00:01\n",
      "\u001b[?25hCollecting spacy-lookups-data<1.1.0,>=1.0.2\n",
      "  Downloading spacy_lookups_data-1.0.2-py2.py3-none-any.whl (97.3 MB)\n",
      "\u001b[K     |████████████████████████████████| 97.3 MB 356 kB/s  eta 0:00:01     |████████████████████████        | 73.2 MB 19.3 MB/s eta 0:00:02\n",
      "\u001b[?25hCollecting smart-open<6.0.0,>=5.0.0\n",
      "  Downloading smart_open-5.2.1-py3-none-any.whl (58 kB)\n",
      "\u001b[K     |████████████████████████████████| 58 kB 6.2 MB/s  eta 0:00:01\n",
      "\u001b[?25hRequirement already satisfied: typing-extensions>=3.7.4.3 in /opt/conda/lib/python3.8/site-packages (from pydantic!=1.8,!=1.8.1,<1.9.0,>=1.7.4->spacy[lookups]<4.0.0,>=2.0.0->alibi) (3.7.4.3)\n",
      "Collecting google-pasta~=0.2\n",
      "  Downloading google_pasta-0.2.0-py3-none-any.whl (57 kB)\n",
      "\u001b[K     |████████████████████████████████| 57 kB 5.6 MB/s  eta 0:00:01\n",
      "\u001b[?25hCollecting termcolor~=1.1.0\n",
      "  Downloading termcolor-1.1.0.tar.gz (3.9 kB)\n",
      "Requirement already satisfied: wheel~=0.35 in /opt/conda/lib/python3.8/site-packages (from tensorflow<2.7.0,>=2.0.0->alibi) (0.36.2)\n",
      "Collecting absl-py~=0.10\n",
      "  Downloading absl_py-0.13.0-py3-none-any.whl (132 kB)\n",
      "\u001b[K     |████████████████████████████████| 132 kB 8.8 MB/s eta 0:00:01\n",
      "\u001b[?25hCollecting clang~=5.0\n",
      "  Downloading clang-5.0.tar.gz (30 kB)\n",
      "Collecting tensorboard~=2.6\n",
      "  Downloading tensorboard-2.6.0-py3-none-any.whl (5.6 MB)\n",
      "\u001b[K     |████████████████████████████████| 5.6 MB 21.4 MB/s eta 0:00:01\n",
      "\u001b[?25hCollecting numpy<2.0.0,>=1.16.2\n",
      "  Downloading numpy-1.19.5-cp38-cp38-manylinux2010_x86_64.whl (14.9 MB)\n",
      "\u001b[K     |████████████████████████████████| 14.9 MB 15.4 MB/s eta 0:00:01\n",
      "\u001b[?25hCollecting wrapt~=1.12.1\n",
      "  Downloading wrapt-1.12.1.tar.gz (27 kB)\n",
      "Requirement already satisfied: protobuf>=3.9.2 in /opt/conda/lib/python3.8/site-packages (from tensorflow<2.7.0,>=2.0.0->alibi) (3.15.8)\n",
      "Collecting opt-einsum~=3.3.0\n",
      "  Downloading opt_einsum-3.3.0-py3-none-any.whl (65 kB)\n",
      "\u001b[K     |████████████████████████████████| 65 kB 5.9 MB/s  eta 0:00:01\n",
      "\u001b[?25hCollecting keras~=2.6\n",
      "  Downloading keras-2.6.0-py2.py3-none-any.whl (1.3 MB)\n",
      "\u001b[K     |████████████████████████████████| 1.3 MB 23.2 MB/s eta 0:00:01\n",
      "\u001b[?25hCollecting gast==0.4.0\n",
      "  Downloading gast-0.4.0-py3-none-any.whl (9.8 kB)\n",
      "Collecting six\n",
      "  Downloading six-1.15.0-py2.py3-none-any.whl (10 kB)\n",
      "Collecting keras-preprocessing~=1.1.2\n",
      "  Downloading Keras_Preprocessing-1.1.2-py2.py3-none-any.whl (42 kB)\n",
      "\u001b[K     |████████████████████████████████| 42 kB 1.7 MB/s  eta 0:00:01\n",
      "\u001b[?25hCollecting astunparse~=1.6.3\n",
      "  Downloading astunparse-1.6.3-py2.py3-none-any.whl (12 kB)\n",
      "Collecting flatbuffers~=1.12.0\n",
      "  Downloading flatbuffers-1.12-py2.py3-none-any.whl (15 kB)\n",
      "Collecting grpcio<2.0,>=1.37.0\n",
      "  Downloading grpcio-1.40.0-cp38-cp38-manylinux2014_x86_64.whl (4.3 MB)\n",
      "\u001b[K     |████████████████████████████████| 4.3 MB 24.1 MB/s eta 0:00:01\n",
      "\u001b[?25hCollecting tensorflow-estimator~=2.6\n",
      "  Downloading tensorflow_estimator-2.6.0-py2.py3-none-any.whl (462 kB)\n",
      "\u001b[K     |████████████████████████████████| 462 kB 21.7 MB/s eta 0:00:01\n",
      "\u001b[?25hCollecting h5py~=3.1.0\n",
      "  Downloading h5py-3.1.0-cp38-cp38-manylinux1_x86_64.whl (4.4 MB)\n",
      "\u001b[K     |████████████████████████████████| 4.4 MB 13.0 MB/s eta 0:00:01\n",
      "\u001b[?25hCollecting google-auth<2,>=1.6.3\n",
      "  Downloading google_auth-1.35.0-py2.py3-none-any.whl (152 kB)\n",
      "\u001b[K     |████████████████████████████████| 152 kB 22.2 MB/s eta 0:00:01\n",
      "\u001b[?25hCollecting google-auth-oauthlib<0.5,>=0.4.1\n",
      "  Downloading google_auth_oauthlib-0.4.6-py2.py3-none-any.whl (18 kB)\n",
      "Collecting tensorboard-data-server<0.7.0,>=0.6.0\n",
      "  Downloading tensorboard_data_server-0.6.1-py3-none-manylinux2010_x86_64.whl (4.9 MB)\n",
      "\u001b[K     |████████████████████████████████| 4.9 MB 25.6 MB/s eta 0:00:01\n",
      "\u001b[?25hCollecting werkzeug>=0.11.15\n",
      "  Downloading Werkzeug-2.0.1-py3-none-any.whl (288 kB)\n",
      "\u001b[K     |████████████████████████████████| 288 kB 24.1 MB/s eta 0:00:01\n",
      "\u001b[?25hCollecting markdown>=2.6.8\n",
      "  Downloading Markdown-3.3.4-py3-none-any.whl (97 kB)\n",
      "\u001b[K     |████████████████████████████████| 97 kB 8.4 MB/s  eta 0:00:01\n",
      "\u001b[?25hCollecting tensorboard-plugin-wit>=1.6.0\n",
      "  Downloading tensorboard_plugin_wit-1.8.0-py3-none-any.whl (781 kB)\n",
      "\u001b[K     |████████████████████████████████| 781 kB 23.7 MB/s eta 0:00:01\n",
      "\u001b[?25hCollecting pyasn1-modules>=0.2.1\n",
      "  Downloading pyasn1_modules-0.2.8-py2.py3-none-any.whl (155 kB)\n",
      "\u001b[K     |████████████████████████████████| 155 kB 24.2 MB/s eta 0:00:01\n",
      "\u001b[?25hCollecting cachetools<5.0,>=2.0.0\n",
      "  Downloading cachetools-4.2.2-py3-none-any.whl (11 kB)\n",
      "Collecting rsa<5,>=3.1.4\n",
      "  Downloading rsa-4.7.2-py3-none-any.whl (34 kB)\n",
      "Collecting requests-oauthlib>=0.7.0\n",
      "  Downloading requests_oauthlib-1.3.0-py2.py3-none-any.whl (23 kB)\n",
      "Collecting pyasn1<0.5.0,>=0.4.6\n",
      "  Downloading pyasn1-0.4.8-py2.py3-none-any.whl (77 kB)\n",
      "\u001b[K     |████████████████████████████████| 77 kB 7.2 MB/s  eta 0:00:01\n",
      "\u001b[?25hRequirement already satisfied: oauthlib>=3.0.0 in /opt/conda/lib/python3.8/site-packages (from requests-oauthlib>=0.7.0->google-auth-oauthlib<0.5,>=0.4.1->tensorboard~=2.6->tensorflow<2.7.0,>=2.0.0->alibi) (3.0.1)\n",
      "Collecting sacremoses\n",
      "  Downloading sacremoses-0.0.45-py3-none-any.whl (895 kB)\n",
      "\u001b[K     |████████████████████████████████| 895 kB 23.1 MB/s eta 0:00:01\n",
      "\u001b[?25hCollecting huggingface-hub>=0.0.12\n",
      "  Downloading huggingface_hub-0.0.16-py3-none-any.whl (50 kB)\n",
      "\u001b[K     |████████████████████████████████| 50 kB 8.6 MB/s  eta 0:00:01\n",
      "\u001b[?25hCollecting filelock\n",
      "  Downloading filelock-3.0.12-py3-none-any.whl (7.6 kB)\n",
      "Collecting regex!=2019.12.17\n",
      "  Downloading regex-2021.8.28-cp38-cp38-manylinux_2_17_x86_64.manylinux2014_x86_64.whl (761 kB)\n",
      "\u001b[K     |████████████████████████████████| 761 kB 21.9 MB/s eta 0:00:01\n",
      "\u001b[?25hCollecting tokenizers<0.11,>=0.10.1\n",
      "  Downloading tokenizers-0.10.3-cp38-cp38-manylinux_2_5_x86_64.manylinux1_x86_64.manylinux_2_12_x86_64.manylinux2010_x86_64.whl (3.3 MB)\n",
      "\u001b[K     |████████████████████████████████| 3.3 MB 15.4 MB/s eta 0:00:01\n",
      "\u001b[?25hRequirement already satisfied: pyyaml>=5.1 in /opt/conda/lib/python3.8/site-packages (from transformers<5.0.0,>=4.7.0->alibi) (5.4.1)\n",
      "Requirement already satisfied: click<7.2.0,>=7.1.1 in /opt/conda/lib/python3.8/site-packages (from typer<0.4.0,>=0.3.0->spacy[lookups]<4.0.0,>=2.0.0->alibi) (7.1.2)\n",
      "Requirement already satisfied: MarkupSafe>=0.23 in /opt/conda/lib/python3.8/site-packages (from jinja2->spacy[lookups]<4.0.0,>=2.0.0->alibi) (1.1.1)\n",
      "Building wheels for collected packages: clang, termcolor, wrapt\n",
      "  Building wheel for clang (setup.py) ... \u001b[?25ldone\n",
      "\u001b[?25h  Created wheel for clang: filename=clang-5.0-py3-none-any.whl size=30702 sha256=c3130f2bfd087795577e54888e3794d151e302bdc8c73f13b67376563a950cef\n",
      "  Stored in directory: /home/jovyan/.cache/pip/wheels/f1/60/77/22b9b5887bd47801796a856f47650d9789c74dc3161a26d608\n",
      "  Building wheel for termcolor (setup.py) ... \u001b[?25ldone\n",
      "\u001b[?25h  Created wheel for termcolor: filename=termcolor-1.1.0-py3-none-any.whl size=4829 sha256=f6fa1dda3da3df45bb13abc5f323022595c3fff5765e846f8c352c6ff126f602\n",
      "  Stored in directory: /home/jovyan/.cache/pip/wheels/a0/16/9c/5473df82468f958445479c59e784896fa24f4a5fc024b0f501\n",
      "  Building wheel for wrapt (setup.py) ... \u001b[?25ldone\n",
      "\u001b[?25h  Created wheel for wrapt: filename=wrapt-1.12.1-cp38-cp38-linux_x86_64.whl size=81769 sha256=23b2e3b4d45e2aa592774fe66867a08038d16709b48128e72d8d067274220410\n",
      "  Stored in directory: /home/jovyan/.cache/pip/wheels/5f/fd/9e/b6cf5890494cb8ef0b5eaff72e5d55a70fb56316007d6dfe73\n",
      "Successfully built clang termcolor wrapt\n",
      "Installing collected packages: pyasn1, six, rsa, pyasn1-modules, numpy, murmurhash, cymem, catalogue, cachetools, wasabi, typer, srsly, smart-open, requests-oauthlib, pydantic, preshed, google-auth, blis, werkzeug, thinc, tensorboard-plugin-wit, tensorboard-data-server, spacy-legacy, regex, pathy, markdown, grpcio, google-auth-oauthlib, filelock, absl-py, wrapt, tokenizers, termcolor, tensorflow-estimator, tensorboard, spacy-lookups-data, spacy, sacremoses, opt-einsum, keras-preprocessing, keras, huggingface-hub, h5py, google-pasta, gast, flatbuffers, clang, astunparse, transformers, tensorflow, alibi\n",
      "  Attempting uninstall: six\n",
      "    Found existing installation: six 1.16.0\n",
      "    Uninstalling six-1.16.0:\n",
      "      Successfully uninstalled six-1.16.0\n",
      "  Attempting uninstall: numpy\n",
      "    Found existing installation: numpy 1.20.2\n"
     ]
    },
    {
     "name": "stdout",
     "output_type": "stream",
     "text": [
      "    Uninstalling numpy-1.20.2:\n",
      "      Successfully uninstalled numpy-1.20.2\n",
      "  Attempting uninstall: h5py\n",
      "    Found existing installation: h5py 3.2.1\n",
      "    Uninstalling h5py-3.2.1:\n",
      "      Successfully uninstalled h5py-3.2.1\n",
      "Successfully installed absl-py-0.13.0 alibi-0.6.1 astunparse-1.6.3 blis-0.7.4 cachetools-4.2.2 catalogue-2.0.6 clang-5.0 cymem-2.0.5 filelock-3.0.12 flatbuffers-1.12 gast-0.4.0 google-auth-1.35.0 google-auth-oauthlib-0.4.6 google-pasta-0.2.0 grpcio-1.40.0 h5py-3.1.0 huggingface-hub-0.0.16 keras-2.6.0 keras-preprocessing-1.1.2 markdown-3.3.4 murmurhash-1.0.5 numpy-1.19.5 opt-einsum-3.3.0 pathy-0.6.0 preshed-3.0.5 pyasn1-0.4.8 pyasn1-modules-0.2.8 pydantic-1.8.2 regex-2021.8.28 requests-oauthlib-1.3.0 rsa-4.7.2 sacremoses-0.0.45 six-1.15.0 smart-open-5.2.1 spacy-3.1.2 spacy-legacy-3.0.8 spacy-lookups-data-1.0.2 srsly-2.4.1 tensorboard-2.6.0 tensorboard-data-server-0.6.1 tensorboard-plugin-wit-1.8.0 tensorflow-2.6.0 tensorflow-estimator-2.6.0 termcolor-1.1.0 thinc-8.0.10 tokenizers-0.10.3 transformers-4.10.2 typer-0.3.2 wasabi-0.8.2 werkzeug-2.0.1 wrapt-1.12.1\n",
      "Collecting alibi-detect\n",
      "  Downloading alibi_detect-0.7.2-py3-none-any.whl (207 kB)\n",
      "\u001b[K     |████████████████████████████████| 207 kB 2.4 MB/s eta 0:00:01\n",
      "\u001b[?25hCollecting opencv-python<5.0.0,>=3.2.0\n",
      "  Downloading opencv_python-4.5.3.56-cp38-cp38-manylinux2014_x86_64.whl (49.9 MB)\n",
      "\u001b[K     |████████████████████████████████| 49.9 MB 56.7 MB/s eta 0:00:01\n",
      "\u001b[?25hRequirement already satisfied: matplotlib<4.0.0,>=3.0.0 in /opt/conda/lib/python3.8/site-packages (from alibi-detect) (3.4.1)\n",
      "Requirement already satisfied: scipy<2.0.0,>=1.3.0 in /opt/conda/lib/python3.8/site-packages (from alibi-detect) (1.6.3)\n",
      "Collecting tensorflow<2.6.0,>=2.0.0\n",
      "  Downloading tensorflow-2.5.1-cp38-cp38-manylinux2010_x86_64.whl (454.5 MB)\n",
      "\u001b[K     |████████████████████████████████| 454.5 MB 337 bytes/s a 0:00:01     |████████▋                       | 122.2 MB 37.7 MB/s eta 0:00:09     |████████████▉                   | 182.2 MB 31.6 MB/s eta 0:00:09     |███████████████████████▊        | 337.1 MB 23.9 MB/s eta 0:00:05\n",
      "\u001b[?25hRequirement already satisfied: scikit-image!=0.17.1,<0.19,>=0.14.2 in /opt/conda/lib/python3.8/site-packages (from alibi-detect) (0.18.1)\n",
      "Collecting tensorflow-probability<0.13.0,>=0.8.0\n",
      "  Downloading tensorflow_probability-0.12.2-py2.py3-none-any.whl (4.8 MB)\n",
      "\u001b[K     |████████████████████████████████| 4.8 MB 11.5 MB/s eta 0:00:01\n",
      "\u001b[?25hRequirement already satisfied: transformers<5.0.0,>=4.0.0 in /opt/conda/lib/python3.8/site-packages (from alibi-detect) (4.10.2)\n",
      "Requirement already satisfied: pandas<2.0.0,>=0.23.3 in /opt/conda/lib/python3.8/site-packages (from alibi-detect) (1.2.4)\n",
      "Requirement already satisfied: tqdm<5.0.0,>=4.28.1 in /opt/conda/lib/python3.8/site-packages (from alibi-detect) (4.60.0)\n",
      "Requirement already satisfied: numpy<2.0.0,>=1.16.2 in /opt/conda/lib/python3.8/site-packages (from alibi-detect) (1.19.5)\n",
      "Requirement already satisfied: scikit-learn<0.25.0,>=0.20.2 in /opt/conda/lib/python3.8/site-packages (from alibi-detect) (0.24.2)\n",
      "Requirement already satisfied: Pillow<9.0.0,>=5.4.1 in /opt/conda/lib/python3.8/site-packages (from alibi-detect) (8.1.2)\n",
      "Requirement already satisfied: dill<0.4.0,>=0.3.0 in /opt/conda/lib/python3.8/site-packages (from alibi-detect) (0.3.3)\n",
      "Requirement already satisfied: python-dateutil>=2.7 in /opt/conda/lib/python3.8/site-packages (from matplotlib<4.0.0,>=3.0.0->alibi-detect) (2.8.1)\n",
      "Requirement already satisfied: kiwisolver>=1.0.1 in /opt/conda/lib/python3.8/site-packages (from matplotlib<4.0.0,>=3.0.0->alibi-detect) (1.3.1)\n",
      "Requirement already satisfied: cycler>=0.10 in /opt/conda/lib/python3.8/site-packages (from matplotlib<4.0.0,>=3.0.0->alibi-detect) (0.10.0)\n",
      "Requirement already satisfied: pyparsing>=2.2.1 in /opt/conda/lib/python3.8/site-packages (from matplotlib<4.0.0,>=3.0.0->alibi-detect) (2.4.7)\n",
      "Requirement already satisfied: six in /opt/conda/lib/python3.8/site-packages (from cycler>=0.10->matplotlib<4.0.0,>=3.0.0->alibi-detect) (1.15.0)\n",
      "Requirement already satisfied: pytz>=2017.3 in /opt/conda/lib/python3.8/site-packages (from pandas<2.0.0,>=0.23.3->alibi-detect) (2021.1)\n",
      "Requirement already satisfied: networkx>=2.0 in /opt/conda/lib/python3.8/site-packages (from scikit-image!=0.17.1,<0.19,>=0.14.2->alibi-detect) (2.3)\n",
      "Requirement already satisfied: imageio>=2.3.0 in /opt/conda/lib/python3.8/site-packages (from scikit-image!=0.17.1,<0.19,>=0.14.2->alibi-detect) (2.9.0)\n",
      "Requirement already satisfied: tifffile>=2019.7.26 in /opt/conda/lib/python3.8/site-packages (from scikit-image!=0.17.1,<0.19,>=0.14.2->alibi-detect) (2021.4.8)\n",
      "Requirement already satisfied: PyWavelets>=1.1.1 in /opt/conda/lib/python3.8/site-packages (from scikit-image!=0.17.1,<0.19,>=0.14.2->alibi-detect) (1.1.1)\n",
      "Requirement already satisfied: decorator>=4.3.0 in /opt/conda/lib/python3.8/site-packages (from networkx>=2.0->scikit-image!=0.17.1,<0.19,>=0.14.2->alibi-detect) (5.0.7)\n",
      "Requirement already satisfied: joblib>=0.11 in /opt/conda/lib/python3.8/site-packages (from scikit-learn<0.25.0,>=0.20.2->alibi-detect) (1.0.1)\n",
      "Requirement already satisfied: threadpoolctl>=2.0.0 in /opt/conda/lib/python3.8/site-packages (from scikit-learn<0.25.0,>=0.20.2->alibi-detect) (2.1.0)\n",
      "Requirement already satisfied: wheel~=0.35 in /opt/conda/lib/python3.8/site-packages (from tensorflow<2.6.0,>=2.0.0->alibi-detect) (0.36.2)\n",
      "Requirement already satisfied: wrapt~=1.12.1 in /opt/conda/lib/python3.8/site-packages (from tensorflow<2.6.0,>=2.0.0->alibi-detect) (1.12.1)\n",
      "Requirement already satisfied: absl-py~=0.10 in /opt/conda/lib/python3.8/site-packages (from tensorflow<2.6.0,>=2.0.0->alibi-detect) (0.13.0)\n",
      "Requirement already satisfied: gast==0.4.0 in /opt/conda/lib/python3.8/site-packages (from tensorflow<2.6.0,>=2.0.0->alibi-detect) (0.4.0)\n",
      "Requirement already satisfied: google-pasta~=0.2 in /opt/conda/lib/python3.8/site-packages (from tensorflow<2.6.0,>=2.0.0->alibi-detect) (0.2.0)\n",
      "Requirement already satisfied: protobuf>=3.9.2 in /opt/conda/lib/python3.8/site-packages (from tensorflow<2.6.0,>=2.0.0->alibi-detect) (3.15.8)\n",
      "Requirement already satisfied: flatbuffers~=1.12.0 in /opt/conda/lib/python3.8/site-packages (from tensorflow<2.6.0,>=2.0.0->alibi-detect) (1.12)\n",
      "Collecting tensorflow-estimator<2.6.0,>=2.5.0\n",
      "  Downloading tensorflow_estimator-2.5.0-py2.py3-none-any.whl (462 kB)\n",
      "\u001b[K     |████████████████████████████████| 462 kB 21.7 MB/s eta 0:00:01\n",
      "\u001b[?25hRequirement already satisfied: tensorboard~=2.5 in /opt/conda/lib/python3.8/site-packages (from tensorflow<2.6.0,>=2.0.0->alibi-detect) (2.6.0)\n",
      "Requirement already satisfied: typing-extensions~=3.7.4 in /opt/conda/lib/python3.8/site-packages (from tensorflow<2.6.0,>=2.0.0->alibi-detect) (3.7.4.3)\n",
      "Requirement already satisfied: termcolor~=1.1.0 in /opt/conda/lib/python3.8/site-packages (from tensorflow<2.6.0,>=2.0.0->alibi-detect) (1.1.0)\n",
      "Requirement already satisfied: h5py~=3.1.0 in /opt/conda/lib/python3.8/site-packages (from tensorflow<2.6.0,>=2.0.0->alibi-detect) (3.1.0)\n",
      "Collecting keras-nightly~=2.5.0.dev\n",
      "  Downloading keras_nightly-2.5.0.dev2021032900-py2.py3-none-any.whl (1.2 MB)\n",
      "\u001b[K     |████████████████████████████████| 1.2 MB 27.8 MB/s eta 0:00:01\n",
      "\u001b[?25hCollecting grpcio~=1.34.0\n",
      "  Downloading grpcio-1.34.1-cp38-cp38-manylinux2014_x86_64.whl (4.0 MB)\n",
      "\u001b[K     |████████████████████████████████| 4.0 MB 48.0 MB/s eta 0:00:01\n",
      "\u001b[?25hRequirement already satisfied: keras-preprocessing~=1.1.2 in /opt/conda/lib/python3.8/site-packages (from tensorflow<2.6.0,>=2.0.0->alibi-detect) (1.1.2)\n",
      "Requirement already satisfied: opt-einsum~=3.3.0 in /opt/conda/lib/python3.8/site-packages (from tensorflow<2.6.0,>=2.0.0->alibi-detect) (3.3.0)\n",
      "Requirement already satisfied: astunparse~=1.6.3 in /opt/conda/lib/python3.8/site-packages (from tensorflow<2.6.0,>=2.0.0->alibi-detect) (1.6.3)\n",
      "Requirement already satisfied: werkzeug>=0.11.15 in /opt/conda/lib/python3.8/site-packages (from tensorboard~=2.5->tensorflow<2.6.0,>=2.0.0->alibi-detect) (2.0.1)\n",
      "Requirement already satisfied: google-auth-oauthlib<0.5,>=0.4.1 in /opt/conda/lib/python3.8/site-packages (from tensorboard~=2.5->tensorflow<2.6.0,>=2.0.0->alibi-detect) (0.4.6)\n",
      "Requirement already satisfied: requests<3,>=2.21.0 in /opt/conda/lib/python3.8/site-packages (from tensorboard~=2.5->tensorflow<2.6.0,>=2.0.0->alibi-detect) (2.25.1)\n",
      "Requirement already satisfied: setuptools>=41.0.0 in /opt/conda/lib/python3.8/site-packages (from tensorboard~=2.5->tensorflow<2.6.0,>=2.0.0->alibi-detect) (49.6.0.post20210108)\n",
      "Requirement already satisfied: markdown>=2.6.8 in /opt/conda/lib/python3.8/site-packages (from tensorboard~=2.5->tensorflow<2.6.0,>=2.0.0->alibi-detect) (3.3.4)\n",
      "Requirement already satisfied: google-auth<2,>=1.6.3 in /opt/conda/lib/python3.8/site-packages (from tensorboard~=2.5->tensorflow<2.6.0,>=2.0.0->alibi-detect) (1.35.0)\n"
     ]
    },
    {
     "name": "stdout",
     "output_type": "stream",
     "text": [
      "Requirement already satisfied: tensorboard-plugin-wit>=1.6.0 in /opt/conda/lib/python3.8/site-packages (from tensorboard~=2.5->tensorflow<2.6.0,>=2.0.0->alibi-detect) (1.8.0)\n",
      "Requirement already satisfied: tensorboard-data-server<0.7.0,>=0.6.0 in /opt/conda/lib/python3.8/site-packages (from tensorboard~=2.5->tensorflow<2.6.0,>=2.0.0->alibi-detect) (0.6.1)\n",
      "Requirement already satisfied: pyasn1-modules>=0.2.1 in /opt/conda/lib/python3.8/site-packages (from google-auth<2,>=1.6.3->tensorboard~=2.5->tensorflow<2.6.0,>=2.0.0->alibi-detect) (0.2.8)\n",
      "Requirement already satisfied: cachetools<5.0,>=2.0.0 in /opt/conda/lib/python3.8/site-packages (from google-auth<2,>=1.6.3->tensorboard~=2.5->tensorflow<2.6.0,>=2.0.0->alibi-detect) (4.2.2)\n",
      "Requirement already satisfied: rsa<5,>=3.1.4 in /opt/conda/lib/python3.8/site-packages (from google-auth<2,>=1.6.3->tensorboard~=2.5->tensorflow<2.6.0,>=2.0.0->alibi-detect) (4.7.2)\n",
      "Requirement already satisfied: requests-oauthlib>=0.7.0 in /opt/conda/lib/python3.8/site-packages (from google-auth-oauthlib<0.5,>=0.4.1->tensorboard~=2.5->tensorflow<2.6.0,>=2.0.0->alibi-detect) (1.3.0)\n",
      "Requirement already satisfied: pyasn1<0.5.0,>=0.4.6 in /opt/conda/lib/python3.8/site-packages (from pyasn1-modules>=0.2.1->google-auth<2,>=1.6.3->tensorboard~=2.5->tensorflow<2.6.0,>=2.0.0->alibi-detect) (0.4.8)\n",
      "Requirement already satisfied: idna<3,>=2.5 in /opt/conda/lib/python3.8/site-packages (from requests<3,>=2.21.0->tensorboard~=2.5->tensorflow<2.6.0,>=2.0.0->alibi-detect) (2.10)\n",
      "Requirement already satisfied: certifi>=2017.4.17 in /opt/conda/lib/python3.8/site-packages (from requests<3,>=2.21.0->tensorboard~=2.5->tensorflow<2.6.0,>=2.0.0->alibi-detect) (2020.12.5)\n",
      "Requirement already satisfied: chardet<5,>=3.0.2 in /opt/conda/lib/python3.8/site-packages (from requests<3,>=2.21.0->tensorboard~=2.5->tensorflow<2.6.0,>=2.0.0->alibi-detect) (4.0.0)\n",
      "Requirement already satisfied: urllib3<1.27,>=1.21.1 in /opt/conda/lib/python3.8/site-packages (from requests<3,>=2.21.0->tensorboard~=2.5->tensorflow<2.6.0,>=2.0.0->alibi-detect) (1.26.4)\n",
      "Requirement already satisfied: oauthlib>=3.0.0 in /opt/conda/lib/python3.8/site-packages (from requests-oauthlib>=0.7.0->google-auth-oauthlib<0.5,>=0.4.1->tensorboard~=2.5->tensorflow<2.6.0,>=2.0.0->alibi-detect) (3.0.1)\n",
      "Collecting dm-tree\n",
      "  Downloading dm_tree-0.1.6-cp38-cp38-manylinux_2_24_x86_64.whl (94 kB)\n",
      "\u001b[K     |████████████████████████████████| 94 kB 6.9 MB/s  eta 0:00:01\n",
      "\u001b[?25hRequirement already satisfied: cloudpickle>=1.3 in /opt/conda/lib/python3.8/site-packages (from tensorflow-probability<0.13.0,>=0.8.0->alibi-detect) (1.6.0)\n",
      "Requirement already satisfied: huggingface-hub>=0.0.12 in /opt/conda/lib/python3.8/site-packages (from transformers<5.0.0,>=4.0.0->alibi-detect) (0.0.16)\n",
      "Requirement already satisfied: pyyaml>=5.1 in /opt/conda/lib/python3.8/site-packages (from transformers<5.0.0,>=4.0.0->alibi-detect) (5.4.1)\n",
      "Requirement already satisfied: sacremoses in /opt/conda/lib/python3.8/site-packages (from transformers<5.0.0,>=4.0.0->alibi-detect) (0.0.45)\n",
      "Requirement already satisfied: packaging in /opt/conda/lib/python3.8/site-packages (from transformers<5.0.0,>=4.0.0->alibi-detect) (20.9)\n",
      "Requirement already satisfied: regex!=2019.12.17 in /opt/conda/lib/python3.8/site-packages (from transformers<5.0.0,>=4.0.0->alibi-detect) (2021.8.28)\n",
      "Requirement already satisfied: filelock in /opt/conda/lib/python3.8/site-packages (from transformers<5.0.0,>=4.0.0->alibi-detect) (3.0.12)\n",
      "Requirement already satisfied: tokenizers<0.11,>=0.10.1 in /opt/conda/lib/python3.8/site-packages (from transformers<5.0.0,>=4.0.0->alibi-detect) (0.10.3)\n",
      "Requirement already satisfied: click in /opt/conda/lib/python3.8/site-packages (from sacremoses->transformers<5.0.0,>=4.0.0->alibi-detect) (7.1.2)\n",
      "Installing collected packages: grpcio, tensorflow-estimator, keras-nightly, dm-tree, tensorflow-probability, tensorflow, opencv-python, alibi-detect\n",
      "  Attempting uninstall: grpcio\n",
      "    Found existing installation: grpcio 1.40.0\n",
      "    Uninstalling grpcio-1.40.0:\n",
      "      Successfully uninstalled grpcio-1.40.0\n",
      "  Attempting uninstall: tensorflow-estimator\n",
      "    Found existing installation: tensorflow-estimator 2.6.0\n",
      "    Uninstalling tensorflow-estimator-2.6.0:\n",
      "      Successfully uninstalled tensorflow-estimator-2.6.0\n",
      "  Attempting uninstall: tensorflow\n",
      "    Found existing installation: tensorflow 2.6.0\n",
      "    Uninstalling tensorflow-2.6.0:\n",
      "      Successfully uninstalled tensorflow-2.6.0\n",
      "Successfully installed alibi-detect-0.7.2 dm-tree-0.1.6 grpcio-1.34.1 keras-nightly-2.5.0.dev2021032900 opencv-python-4.5.3.56 tensorflow-2.5.1 tensorflow-estimator-2.5.0 tensorflow-probability-0.12.2\n",
      "Requirement already satisfied: fsspec in /opt/conda/lib/python3.8/site-packages (2021.4.0)\n",
      "Collecting gcsfs\n",
      "  Downloading gcsfs-2021.8.1-py2.py3-none-any.whl (23 kB)\n",
      "Requirement already satisfied: decorator in /opt/conda/lib/python3.8/site-packages (from gcsfs) (5.0.7)\n",
      "Collecting aiohttp\n",
      "  Downloading aiohttp-3.7.4.post0-cp38-cp38-manylinux2014_x86_64.whl (1.5 MB)\n",
      "\u001b[K     |████████████████████████████████| 1.5 MB 2.3 MB/s eta 0:00:01\n",
      "\u001b[?25hRequirement already satisfied: google-auth-oauthlib in /opt/conda/lib/python3.8/site-packages (from gcsfs) (0.4.6)\n",
      "Requirement already satisfied: google-auth>=1.2 in /opt/conda/lib/python3.8/site-packages (from gcsfs) (1.35.0)\n",
      "Collecting fsspec==2021.08.1\n",
      "  Downloading fsspec-2021.8.1-py3-none-any.whl (119 kB)\n",
      "\u001b[K     |████████████████████████████████| 119 kB 13.7 MB/s eta 0:00:01\n",
      "\u001b[?25hRequirement already satisfied: requests in /opt/conda/lib/python3.8/site-packages (from gcsfs) (2.25.1)\n",
      "Requirement already satisfied: six>=1.9.0 in /opt/conda/lib/python3.8/site-packages (from google-auth>=1.2->gcsfs) (1.15.0)\n",
      "Requirement already satisfied: setuptools>=40.3.0 in /opt/conda/lib/python3.8/site-packages (from google-auth>=1.2->gcsfs) (49.6.0.post20210108)\n",
      "Requirement already satisfied: pyasn1-modules>=0.2.1 in /opt/conda/lib/python3.8/site-packages (from google-auth>=1.2->gcsfs) (0.2.8)\n",
      "Requirement already satisfied: rsa<5,>=3.1.4 in /opt/conda/lib/python3.8/site-packages (from google-auth>=1.2->gcsfs) (4.7.2)\n",
      "Requirement already satisfied: cachetools<5.0,>=2.0.0 in /opt/conda/lib/python3.8/site-packages (from google-auth>=1.2->gcsfs) (4.2.2)\n",
      "Requirement already satisfied: pyasn1<0.5.0,>=0.4.6 in /opt/conda/lib/python3.8/site-packages (from pyasn1-modules>=0.2.1->google-auth>=1.2->gcsfs) (0.4.8)\n",
      "Requirement already satisfied: typing-extensions>=3.6.5 in /opt/conda/lib/python3.8/site-packages (from aiohttp->gcsfs) (3.7.4.3)\n",
      "Collecting yarl<2.0,>=1.0\n",
      "  Downloading yarl-1.6.3-cp38-cp38-manylinux2014_x86_64.whl (324 kB)\n",
      "\u001b[K     |████████████████████████████████| 324 kB 19.9 MB/s eta 0:00:01\n",
      "\u001b[?25hRequirement already satisfied: attrs>=17.3.0 in /opt/conda/lib/python3.8/site-packages (from aiohttp->gcsfs) (20.3.0)\n",
      "Collecting async-timeout<4.0,>=3.0\n",
      "  Downloading async_timeout-3.0.1-py3-none-any.whl (8.2 kB)\n",
      "Requirement already satisfied: chardet<5.0,>=2.0 in /opt/conda/lib/python3.8/site-packages (from aiohttp->gcsfs) (4.0.0)\n",
      "Collecting multidict<7.0,>=4.5\n",
      "  Downloading multidict-5.1.0-cp38-cp38-manylinux2014_x86_64.whl (159 kB)\n",
      "\u001b[K     |████████████████████████████████| 159 kB 28.2 MB/s eta 0:00:01\n",
      "\u001b[?25hRequirement already satisfied: idna>=2.0 in /opt/conda/lib/python3.8/site-packages (from yarl<2.0,>=1.0->aiohttp->gcsfs) (2.10)\n",
      "Requirement already satisfied: requests-oauthlib>=0.7.0 in /opt/conda/lib/python3.8/site-packages (from google-auth-oauthlib->gcsfs) (1.3.0)\n",
      "Requirement already satisfied: oauthlib>=3.0.0 in /opt/conda/lib/python3.8/site-packages (from requests-oauthlib>=0.7.0->google-auth-oauthlib->gcsfs) (3.0.1)\n",
      "Requirement already satisfied: urllib3<1.27,>=1.21.1 in /opt/conda/lib/python3.8/site-packages (from requests->gcsfs) (1.26.4)\n",
      "Requirement already satisfied: certifi>=2017.4.17 in /opt/conda/lib/python3.8/site-packages (from requests->gcsfs) (2020.12.5)\n",
      "Installing collected packages: multidict, yarl, async-timeout, fsspec, aiohttp, gcsfs\n",
      "  Attempting uninstall: fsspec\n",
      "    Found existing installation: fsspec 2021.4.0\n",
      "    Uninstalling fsspec-2021.4.0:\n",
      "      Successfully uninstalled fsspec-2021.4.0\n",
      "Successfully installed aiohttp-3.7.4.post0 async-timeout-3.0.1 fsspec-2021.8.1 gcsfs-2021.8.1 multidict-5.1.0 yarl-1.6.3\n"
     ]
    },
    {
     "name": "stdout",
     "output_type": "stream",
     "text": [
      "Requirement already satisfied: dill in /opt/conda/lib/python3.8/site-packages (0.3.3)\r\n"
     ]
    }
   ],
   "source": [
    "!pip install seldon-deploy-sdk\n",
    "!pip install alibi\n",
    "!pip install alibi-detect\n",
    "!pip install fsspec\n",
    "!pip install gcsfs\n",
    "!pip install dill"
   ]
  },
  {
   "cell_type": "code",
   "execution_count": 11,
   "metadata": {},
   "outputs": [
    {
     "name": "stdout",
     "output_type": "stream",
     "text": [
      "Collecting xgboost\n",
      "  Downloading xgboost-1.4.2-py3-none-manylinux2010_x86_64.whl (166.7 MB)\n",
      "\u001b[K     |████████████████████████████████| 166.7 MB 37 kB/s s eta 0:00:01\n",
      "\u001b[?25hRequirement already satisfied: scipy in /opt/conda/lib/python3.8/site-packages (from xgboost) (1.6.3)\n",
      "Requirement already satisfied: numpy in /opt/conda/lib/python3.8/site-packages (from xgboost) (1.19.5)\n",
      "Installing collected packages: xgboost\n",
      "Successfully installed xgboost-1.4.2\n"
     ]
    }
   ],
   "source": [
    "!pip install xgboost"
   ]
  },
  {
   "cell_type": "code",
   "execution_count": 24,
   "metadata": {},
   "outputs": [
    {
     "name": "stdout",
     "output_type": "stream",
     "text": [
      "Collecting gsutil\n",
      "  Downloading gsutil-4.67.tar.gz (2.9 MB)\n",
      "\u001b[K     |████████████████████████████████| 2.9 MB 2.6 MB/s eta 0:00:01\n",
      "\u001b[?25hCollecting argcomplete>=1.9.4\n",
      "  Downloading argcomplete-1.12.3-py2.py3-none-any.whl (38 kB)\n",
      "Collecting crcmod>=1.7\n",
      "  Downloading crcmod-1.7.tar.gz (89 kB)\n",
      "\u001b[K     |████████████████████████████████| 89 kB 10.1 MB/s eta 0:00:01\n",
      "\u001b[?25hCollecting fasteners>=0.14.1\n",
      "  Downloading fasteners-0.16.3-py2.py3-none-any.whl (28 kB)\n",
      "Collecting gcs-oauth2-boto-plugin>=2.7\n",
      "  Downloading gcs-oauth2-boto-plugin-2.7.tar.gz (20 kB)\n",
      "Collecting google-apitools>=0.5.32\n",
      "  Downloading google_apitools-0.5.32-py3-none-any.whl (135 kB)\n",
      "\u001b[K     |████████████████████████████████| 135 kB 24.3 MB/s eta 0:00:01\n",
      "\u001b[?25hCollecting httplib2>=0.18\n",
      "  Downloading httplib2-0.19.1-py3-none-any.whl (95 kB)\n",
      "\u001b[K     |████████████████████████████████| 95 kB 6.5 MB/s  eta 0:00:01\n",
      "\u001b[?25hCollecting google-reauth>=0.1.0\n",
      "  Downloading google_reauth-0.1.1-py2.py3-none-any.whl (17 kB)\n",
      "Collecting mock==2.0.0\n",
      "  Downloading mock-2.0.0-py2.py3-none-any.whl (56 kB)\n",
      "\u001b[K     |████████████████████████████████| 56 kB 6.3 MB/s  eta 0:00:01\n",
      "\u001b[?25hCollecting monotonic>=1.4\n",
      "  Downloading monotonic-1.6-py2.py3-none-any.whl (8.2 kB)\n",
      "Requirement already satisfied: pyOpenSSL>=0.13 in /opt/conda/lib/python3.8/site-packages (from gsutil) (20.0.1)\n",
      "Collecting retry_decorator>=1.0.0\n",
      "  Downloading retry_decorator-1.1.1.tar.gz (3.9 kB)\n",
      "Requirement already satisfied: six>=1.12.0 in /opt/conda/lib/python3.8/site-packages (from gsutil) (1.15.0)\n",
      "Collecting pbr>=0.11\n",
      "  Downloading pbr-5.6.0-py2.py3-none-any.whl (111 kB)\n",
      "\u001b[K     |████████████████████████████████| 111 kB 56.1 MB/s eta 0:00:01\n",
      "\u001b[?25hCollecting boto>=2.29.1\n",
      "  Downloading boto-2.49.0-py2.py3-none-any.whl (1.4 MB)\n",
      "\u001b[K     |████████████████████████████████| 1.4 MB 28.3 MB/s eta 0:00:01\n",
      "\u001b[?25hCollecting oauth2client>=2.2.0\n",
      "  Downloading oauth2client-4.1.3-py2.py3-none-any.whl (98 kB)\n",
      "\u001b[K     |████████████████████████████████| 98 kB 10.1 MB/s eta 0:00:01\n",
      "\u001b[?25hCollecting pyu2f\n",
      "  Downloading pyu2f-0.1.5.tar.gz (27 kB)\n",
      "Requirement already satisfied: pyparsing<3,>=2.4.2 in /opt/conda/lib/python3.8/site-packages (from httplib2>=0.18->gsutil) (2.4.7)\n",
      "Requirement already satisfied: pyasn1>=0.1.7 in /opt/conda/lib/python3.8/site-packages (from oauth2client>=2.2.0->gcs-oauth2-boto-plugin>=2.7->gsutil) (0.4.8)\n",
      "Requirement already satisfied: pyasn1-modules>=0.0.5 in /opt/conda/lib/python3.8/site-packages (from oauth2client>=2.2.0->gcs-oauth2-boto-plugin>=2.7->gsutil) (0.2.8)\n",
      "Requirement already satisfied: rsa>=3.1.4 in /opt/conda/lib/python3.8/site-packages (from oauth2client>=2.2.0->gcs-oauth2-boto-plugin>=2.7->gsutil) (4.7.2)\n",
      "Requirement already satisfied: cryptography>=3.2 in /opt/conda/lib/python3.8/site-packages (from pyOpenSSL>=0.13->gsutil) (3.4.7)\n",
      "Requirement already satisfied: cffi>=1.12 in /opt/conda/lib/python3.8/site-packages (from cryptography>=3.2->pyOpenSSL>=0.13->gsutil) (1.14.5)\n",
      "Requirement already satisfied: pycparser in /opt/conda/lib/python3.8/site-packages (from cffi>=1.12->cryptography>=3.2->pyOpenSSL>=0.13->gsutil) (2.20)\n",
      "Building wheels for collected packages: gsutil, crcmod, gcs-oauth2-boto-plugin, retry-decorator, pyu2f\n",
      "  Building wheel for gsutil (setup.py) ... \u001b[?25ldone\n",
      "\u001b[?25h  Created wheel for gsutil: filename=gsutil-4.67-py3-none-any.whl size=3695742 sha256=2bebc2c9592e87670695c58c3f26a90621abae0927b01de1418babfa531e9cc5\n",
      "  Stored in directory: /home/jovyan/.cache/pip/wheels/19/a0/a4/3360fe0d106c606692289c13c83b815ae0b77a95f39e406743\n",
      "  Building wheel for crcmod (setup.py) ... \u001b[?25ldone\n",
      "\u001b[?25h  Created wheel for crcmod: filename=crcmod-1.7-cp38-cp38-linux_x86_64.whl size=36056 sha256=0956bf96ed8da194e4c0faa7ac80be6ef92d22073b9c703b5444d3d2ff02c2ba\n",
      "  Stored in directory: /home/jovyan/.cache/pip/wheels/ca/5a/02/f3acf982a026f3319fb3e798a8dca2d48fafee7761788562e9\n",
      "  Building wheel for gcs-oauth2-boto-plugin (setup.py) ... \u001b[?25ldone\n",
      "\u001b[?25h  Created wheel for gcs-oauth2-boto-plugin: filename=gcs_oauth2_boto_plugin-2.7-py3-none-any.whl size=23202 sha256=1ab7cdadbc3b5489c9c3b04038e194217f4eb2077ed992ae64ed18a259689c10\n",
      "  Stored in directory: /home/jovyan/.cache/pip/wheels/da/9a/7a/6d71b0db801fc601f42c3c70d009aa2f441089d2f690cf1123\n",
      "  Building wheel for retry-decorator (setup.py) ... \u001b[?25ldone\n",
      "\u001b[?25h  Created wheel for retry-decorator: filename=retry_decorator-1.1.1-py2.py3-none-any.whl size=3642 sha256=17252117ddb44baf9ccf12fcd8ce09b3f230f01d7238bfeab29f96e4ce8b9a98\n",
      "  Stored in directory: /home/jovyan/.cache/pip/wheels/1e/bb/cb/5d7a05561d7ec60b8c0dc65f156a33909a3eb5c56340959fa9\n",
      "  Building wheel for pyu2f (setup.py) ... \u001b[?25ldone\n",
      "\u001b[?25h  Created wheel for pyu2f: filename=pyu2f-0.1.5-py3-none-any.whl size=39387 sha256=5aea00465bc05c3e6ca2a5aa09064cd501d56d84fbd8f4101f8a67ef3cb7858f\n",
      "  Stored in directory: /home/jovyan/.cache/pip/wheels/8d/38/8f/378b4491d760a176f261d56310fcb051e53090a894534acbf0\n",
      "Successfully built gsutil crcmod gcs-oauth2-boto-plugin retry-decorator pyu2f\n",
      "Installing collected packages: pyu2f, httplib2, retry-decorator, pbr, oauth2client, google-reauth, fasteners, boto, monotonic, mock, google-apitools, gcs-oauth2-boto-plugin, crcmod, argcomplete, gsutil\n",
      "  Attempting uninstall: mock\n",
      "    Found existing installation: mock 4.0.3\n",
      "    Uninstalling mock-4.0.3:\n",
      "      Successfully uninstalled mock-4.0.3\n",
      "Successfully installed argcomplete-1.12.3 boto-2.49.0 crcmod-1.7 fasteners-0.16.3 gcs-oauth2-boto-plugin-2.7 google-apitools-0.5.32 google-reauth-0.1.1 gsutil-4.67 httplib2-0.19.1 mock-2.0.0 monotonic-1.6 oauth2client-4.1.3 pbr-5.6.0 pyu2f-0.1.5 retry-decorator-1.1.1\n"
     ]
    }
   ],
   "source": [
    "!pip install gsutil"
   ]
  },
  {
   "cell_type": "code",
   "execution_count": 53,
   "metadata": {
    "id": "5WGfR_7vSW0m"
   },
   "outputs": [],
   "source": [
    "from seldon_deploy_sdk import Configuration, ApiClient, SeldonDeploymentsApi, OutlierDetectorApi\n",
    "from seldon_deploy_sdk.auth import OIDCAuthenticator\n",
    "\n",
    "from sklearn.linear_model import LogisticRegression\n",
    "from sklearn.datasets import load_iris\n",
    "from sklearn.model_selection import train_test_split\n",
    "from sklearn.metrics import precision_score, recall_score, accuracy_score, f1_score, confusion_matrix\n",
    "\n",
    "import numpy as np\n",
    "import pandas as pd\n",
    "\n",
    "from alibi.explainers import AnchorTabular\n",
    "\n",
    "from alibi_detect.od import Mahalanobis\n",
    "from alibi_detect.datasets import fetch_kdd\n",
    "from alibi_detect.utils.data import create_outlier_batch\n",
    "from alibi_detect.utils.mapping import ord2ohe\n",
    "from alibi_detect.utils.saving import save_detector, load_detector\n",
    "from alibi_detect.utils.visualize import plot_instance_score, plot_roc\n",
    "\n",
    "import dill\n",
    "import os\n",
    "import joblib\n",
    "\n",
    "import matplotlib.pyplot as plt\n",
    "import xgboost as xgb\n",
    "import seaborn as sns"
   ]
  },
  {
   "cell_type": "markdown",
   "metadata": {
    "id": "dMwu2Rk4SW0r"
   },
   "source": [
    "### Loading the data\n",
    "Once you have all of the relevant packages you can now explore the dataset. "
   ]
  },
  {
   "cell_type": "code",
   "execution_count": 13,
   "metadata": {
    "id": "MgWkzF1dSW0t"
   },
   "outputs": [],
   "source": [
    "dataset = load_iris()\n",
    "feature_names = dataset.feature_names\n",
    "class_names = list(dataset.target_names)\n",
    "\n",
    "X = dataset.data\n",
    "y = dataset.target"
   ]
  },
  {
   "cell_type": "markdown",
   "metadata": {
    "id": "SRia7-RuSW0v"
   },
   "source": [
    "Creating a train/test split of the data to ensure you have an unseen subset of the dataset with which to validate your model's performance. "
   ]
  },
  {
   "cell_type": "code",
   "execution_count": 14,
   "metadata": {
    "id": "4qIxSW-nSW0y"
   },
   "outputs": [],
   "source": [
    "X_train, X_test, y_train, y_test = train_test_split(X, y, test_size=0.2, random_state=42)"
   ]
  },
  {
   "cell_type": "code",
   "execution_count": 15,
   "metadata": {
    "colab": {
     "base_uri": "https://localhost:8080/"
    },
    "id": "F2b5qbHkSW00",
    "outputId": "56d4a750-689e-4312-fbb8-35d792f67bfa"
   },
   "outputs": [
    {
     "data": {
      "text/plain": [
       "array([4.6, 3.6, 1. , 0.2])"
      ]
     },
     "execution_count": 15,
     "metadata": {},
     "output_type": "execute_result"
    }
   ],
   "source": [
    "X_train[0]"
   ]
  },
  {
   "cell_type": "markdown",
   "metadata": {
    "id": "JBAzFRZySW02"
   },
   "source": [
    "Inspecting a single instance (row) of your data, you can see that it is made up of four different numerical features:\n",
    "1. Sepal length\n",
    "2. Sepal width\n",
    "3. Petal length\n",
    "4. Petal width"
   ]
  },
  {
   "cell_type": "code",
   "execution_count": 16,
   "metadata": {
    "colab": {
     "base_uri": "https://localhost:8080/"
    },
    "id": "nW3GSuqcSW04",
    "outputId": "02d3b846-87a6-4324-fd02-19db47ca291e"
   },
   "outputs": [
    {
     "data": {
      "text/plain": [
       "array([0, 1, 2])"
      ]
     },
     "execution_count": 16,
     "metadata": {},
     "output_type": "execute_result"
    }
   ],
   "source": [
    "np.unique(y_train)"
   ]
  },
  {
   "cell_type": "markdown",
   "metadata": {
    "id": "dHfasBPrSW05"
   },
   "source": [
    "Meanwhile, the labels (your y data) have three separate classes- each representing a different species of Iris:\n",
    "\n",
    "0. Iris setosa\n",
    "1. Iris virginica\n",
    "2. Iris versicolor\n",
    "\n",
    "I wouldn't worry about remembering those names..."
   ]
  },
  {
   "cell_type": "markdown",
   "metadata": {
    "id": "wtm3VdPUSW06"
   },
   "source": [
    "### Model training\n",
    "Next you will train two separate machine learning models on your dataset. This is representative of the iterative process of algorithm creation which Data Scientists go through during the experimentation process. \n",
    "\n",
    "The first model is a logistic regressor which we train using the `.fit()` method, and then evaluate using the `accuracy_score()` function. "
   ]
  },
  {
   "cell_type": "code",
   "execution_count": 17,
   "metadata": {
    "colab": {
     "base_uri": "https://localhost:8080/"
    },
    "id": "WOiGalUqSW07",
    "outputId": "2c9c3de2-b47a-4bec-f093-eef05158f416"
   },
   "outputs": [
    {
     "name": "stdout",
     "output_type": "stream",
     "text": [
      "1.0\n",
      "1.0\n",
      "1.0\n"
     ]
    }
   ],
   "source": [
    "lr = LogisticRegression(max_iter=4000)\n",
    "lr.fit(X_train, y_train)\n",
    "\n",
    "print(precision_score(y_test, lr.predict(X_test), average=\"macro\"))\n",
    "print(recall_score(y_test, lr.predict(X_test), average=\"macro\"))\n",
    "print(accuracy_score(y_test, lr.predict(X_test)))"
   ]
  },
  {
   "cell_type": "markdown",
   "metadata": {
    "id": "1MxWp8CGSW08"
   },
   "source": [
    "You'll notice that your model has perfect evaluation scores, this implies that the model is overfitted on the dataset. For the purposes of this workshop, you're not going to worry about this.\n",
    "\n",
    "----\n",
    "\n",
    "You can now train your second machine learning model- an XGBoost classifier. The first step is to convert the dataset into XGBoost's expected DMatrix data format. "
   ]
  },
  {
   "cell_type": "code",
   "execution_count": 18,
   "metadata": {
    "id": "U2n7Rs61SW09"
   },
   "outputs": [],
   "source": [
    "dtrain = xgb.DMatrix(X_train, label=y_train)\n",
    "dtest = xgb.DMatrix(X_test, label=y_test)"
   ]
  },
  {
   "cell_type": "markdown",
   "metadata": {
    "id": "S6dCVcUJSW09"
   },
   "source": [
    "Next, you will set the hyperparameters associated with the XGBoost algorithim. This is essentially telling the model how large to be (`max_depth`), how quickly to learn (`eta`), information about the task (`objective`) and  the number of classes (`num_class`). \n",
    "\n",
    "Finally, you set the `num_round` which tells XGBoost how many iterations over the dataset to perform. "
   ]
  },
  {
   "cell_type": "code",
   "execution_count": 19,
   "metadata": {
    "id": "zCxOKjK1SW0-"
   },
   "outputs": [],
   "source": [
    "param = {\n",
    "    'max_depth': 3,\n",
    "    'eta': 0.3,\n",
    "    'objective': 'multi:softprob',\n",
    "    'num_class': 3} \n",
    "\n",
    "num_round = 20"
   ]
  },
  {
   "cell_type": "markdown",
   "metadata": {
    "id": "EHPU7o8HSW0-"
   },
   "source": [
    "You can then train and score the classifier. "
   ]
  },
  {
   "cell_type": "code",
   "execution_count": 20,
   "metadata": {
    "colab": {
     "base_uri": "https://localhost:8080/"
    },
    "id": "CPH0kxIiSW0-",
    "outputId": "eb992b87-8039-46a0-fe0b-fe1f8cd0fe66"
   },
   "outputs": [
    {
     "name": "stdout",
     "output_type": "stream",
     "text": [
      "[15:36:33] WARNING: ../src/learner.cc:1095: Starting in XGBoost 1.3.0, the default evaluation metric used with the objective 'multi:softprob' was changed from 'merror' to 'mlogloss'. Explicitly set eval_metric if you'd like to restore the old behavior.\n",
      "1.0\n",
      "1.0\n",
      "1.0\n"
     ]
    }
   ],
   "source": [
    "bst = xgb.train(param, dtrain, num_round)\n",
    "preds = np.asarray([np.argmax(line) for line in bst.predict(dtest)])\n",
    "print(precision_score(y_test, preds, average=\"macro\"))\n",
    "print(recall_score(y_test, preds, average=\"macro\"))\n",
    "print(accuracy_score(y_test, preds))"
   ]
  },
  {
   "cell_type": "markdown",
   "metadata": {
    "id": "Iml5FehYSW0_"
   },
   "source": [
    "Again, you can see that the model has overfit on the dataset. However, you will now save both of the models ready for them to be deployed. \n",
    "\n",
    "The Scikit-Learn pre-packaged server expects the saved model artefact to be called `model.joblib`. Meanwhile, the XGBoost pre-packaged server expects your model to be called `model.bst` when it is uploaded to our storage bucket."
   ]
  },
  {
   "cell_type": "code",
   "execution_count": 21,
   "metadata": {
    "id": "QA5ExihMSW0_"
   },
   "outputs": [],
   "source": [
    "# Saving the logistic regressor\n",
    "joblib.dump(lr, 'model.joblib')\n",
    "\n",
    "# Saving the XGBoost classifier\n",
    "bst.save_model('model.bst')"
   ]
  },
  {
   "cell_type": "markdown",
   "metadata": {
    "id": "fJI4NA4cSW1A"
   },
   "source": [
    "### Push model artefacts to GCP\n",
    "\n",
    "You will now push the saved model binaries to a GCP bucket, where they can be picked up by Seldon and deployed onto Kubernetes. \n",
    "\n",
    "You will need to create a unique name for your model artefact. It's easiest to just use your own name. Be careful not to use any upper-case letters or other characters like \"_\". Dashes are fine, so for example: YOUR_NAME = \"john-smith\""
   ]
  },
  {
   "cell_type": "code",
   "execution_count": 25,
   "metadata": {
    "id": "pY01jI5KHlwU"
   },
   "outputs": [],
   "source": [
    "YOUR_NAME = \"marco-paspuel\""
   ]
  },
  {
   "cell_type": "code",
   "execution_count": 26,
   "metadata": {
    "colab": {
     "base_uri": "https://localhost:8080/"
    },
    "id": "Y_V5lgCkSW1A",
    "outputId": "db93b51e-ed00-44f4-c605-650dd7ad82ca"
   },
   "outputs": [
    {
     "name": "stdout",
     "output_type": "stream",
     "text": [
      "Copying file://model.joblib [Content-Type=application/octet-stream]...\n",
      "/ [1 files][  909.0 B/  909.0 B]                                                \n",
      "Operation completed over 1 objects/909.0 B.                                      \n",
      "Copying file://model.bst [Content-Type=application/octet-stream]...\n",
      "/ [1 files][ 23.5 KiB/ 23.5 KiB]                                                \n",
      "Operation completed over 1 objects/23.5 KiB.                                     \n"
     ]
    }
   ],
   "source": [
    "!gsutil cp model.joblib gs://tom-seldon-examples/deploy-workshop/\"{YOUR_NAME}\"/lr/model.joblib\n",
    "!gsutil cp model.bst gs://tom-seldon-examples/deploy-workshop/\"{YOUR_NAME}\"/xgb/model.bst"
   ]
  },
  {
   "cell_type": "markdown",
   "metadata": {
    "id": "qDRBvVzRSW1B"
   },
   "source": [
    "### Model Deployment\n",
    "\n",
    "Deploying the model to a Seldon Deploy trial instance using the `seldon-deploy-sdk`. \n",
    "\n",
    "First, setting up the configuration and authentication required to access the cluster. "
   ]
  },
  {
   "cell_type": "code",
   "execution_count": 27,
   "metadata": {
    "id": "Lf1mxpQmSW1B"
   },
   "outputs": [],
   "source": [
    "SD_IP = \"34.91.138.31\"\n",
    "\n",
    "config = Configuration()\n",
    "config.host = f\"http://{SD_IP}/seldon-deploy/api/v1alpha1\"\n",
    "config.oidc_client_id = \"sd-api\"\n",
    "config.oidc_client_secret = \"sd-api-secret\"\n",
    "config.oidc_server = f\"http://{SD_IP}/auth/realms/deploy-realm\"\n",
    "\n",
    "def auth():\n",
    "    auth = OIDCAuthenticator(config)\n",
    "    config.access_token = auth.authenticate(\"admin@seldon.io\", \"12341234\")\n",
    "    api_client = ApiClient(config)\n",
    "    return api_client"
   ]
  },
  {
   "cell_type": "markdown",
   "metadata": {
    "id": "tM7MBe3FSW1C"
   },
   "source": [
    "Now we have configured the IP correctly as well as setup our authentication function we can describe the deployment we would like to create.\n",
    "\n",
    "You will need to fill in the DEPLOYMENT_NAME, NAMESPACE, and the MODEL_LOCATION, the rest of the deployment description has been templated for you.\n",
    "\n",
    "We fill first deploy the logistic regression model:"
   ]
  },
  {
   "cell_type": "code",
   "execution_count": 28,
   "metadata": {
    "id": "iMC5dC7xSW1D"
   },
   "outputs": [],
   "source": [
    "MODEL_NAME = \"lr\"\n",
    "\n",
    "DEPLOYMENT_NAME = f\"{YOUR_NAME}-{MODEL_NAME}\"\n",
    "MODEL_LOCATION = f\"gs://tom-seldon-examples/deploy-workshop/{YOUR_NAME}/{MODEL_NAME}\""
   ]
  },
  {
   "cell_type": "code",
   "execution_count": 29,
   "metadata": {
    "id": "oSib6ZcZSW1D"
   },
   "outputs": [],
   "source": [
    "NAMESPACE = \"test\"\n",
    "PREPACKAGED_SERVER = \"SKLEARN_SERVER\"\n",
    "\n",
    "CPU_REQUESTS = \"1\"\n",
    "MEMORY_REQUESTS = \"1Gi\"\n",
    "\n",
    "CPU_LIMITS = \"1\"\n",
    "MEMORY_LIMITS = \"1Gi\"\n",
    "\n",
    "mldeployment = {\n",
    "    \"kind\": \"SeldonDeployment\",\n",
    "    \"metadata\": {\n",
    "        \"name\": DEPLOYMENT_NAME,\n",
    "        \"namespace\": NAMESPACE,\n",
    "        \"labels\": {\n",
    "            \"fluentd\": \"true\"\n",
    "        }\n",
    "    },\n",
    "    \"apiVersion\": \"machinelearning.seldon.io/v1alpha2\",\n",
    "    \"spec\": {\n",
    "        \"name\": DEPLOYMENT_NAME,\n",
    "        \"annotations\": {\n",
    "            \"seldon.io/engine-seldon-log-messages-externally\": \"true\"\n",
    "        },\n",
    "        \"protocol\": \"seldon\",\n",
    "        \"transport\": \"rest\",\n",
    "        \"predictors\": [\n",
    "            {\n",
    "                \"componentSpecs\": [\n",
    "                    {\n",
    "                        \"spec\": {\n",
    "                            \"containers\": [\n",
    "                                {\n",
    "                                    \"name\": f\"{DEPLOYMENT_NAME}-container\",\n",
    "                                    \"resources\": {\n",
    "                                        \"requests\": {\n",
    "                                            \"cpu\": CPU_REQUESTS,\n",
    "                                            \"memory\": MEMORY_REQUESTS\n",
    "                                        },\n",
    "                                        \"limits\": {\n",
    "                                            \"cpu\": CPU_LIMITS,\n",
    "                                            \"memory\": MEMORY_LIMITS\n",
    "                                        }\n",
    "                                    }\n",
    "                                }\n",
    "                            ]\n",
    "                        }\n",
    "                    }\n",
    "                ],\n",
    "                \"name\": \"default\",\n",
    "                \"replicas\": 1,\n",
    "                \"traffic\": 100,\n",
    "                \"graph\": {\n",
    "                    \"implementation\": PREPACKAGED_SERVER,\n",
    "                    \"modelUri\": MODEL_LOCATION,\n",
    "                    \"name\": f\"{DEPLOYMENT_NAME}-container\",\n",
    "                    \"endpoint\": {\n",
    "                        \"type\": \"REST\"\n",
    "                    },\n",
    "                    \"parameters\": [],\n",
    "                    \"children\": [],\n",
    "                    \"logger\": {\n",
    "                        \"mode\": \"all\"\n",
    "                    }\n",
    "                }\n",
    "            }\n",
    "        ]\n",
    "    },\n",
    "    \"status\": {}\n",
    "}"
   ]
  },
  {
   "cell_type": "code",
   "execution_count": 30,
   "metadata": {
    "colab": {
     "base_uri": "https://localhost:8080/"
    },
    "id": "U60-n9u1SW1E",
    "outputId": "202324fb-23e4-4565-d085-df3565bdb8d6",
    "scrolled": true
   },
   "outputs": [
    {
     "name": "stderr",
     "output_type": "stream",
     "text": [
      "2021-09-13 15:37:47,245 WARNING DEPRECATED!! Future versions of seldon_deploy_sdk will require that the username field is set in the Configuration object (under config.username). Subsequently, the authenticate() method won't accept a username parameter anymore.\n",
      "2021-09-13 15:37:47,247 WARNING DEPRECATED!! Future versions of seldon_deploy_sdk will require that the password field is set in the Configuration object (under config.password). Subsequently, the authenticate() method won't accept a password parameter anymore.\n",
      "2021-09-13 15:37:47,310 WARNING DEPRECATED!! Future versions of seldon_deploy_sdk will require that the username field is set in the Configuration object (under config.username). Subsequently, the authenticate() method won't accept a username parameter anymore.\n",
      "2021-09-13 15:37:47,311 WARNING DEPRECATED!! Future versions of seldon_deploy_sdk will require that the password field is set in the Configuration object (under config.password). Subsequently, the authenticate() method won't accept a password parameter anymore.\n"
     ]
    },
    {
     "data": {
      "text/plain": [
       "{'api_version': 'machinelearning.seldon.io/v1alpha2',\n",
       " 'kind': 'SeldonDeployment',\n",
       " 'metadata': {'annotations': None,\n",
       "              'cluster_name': None,\n",
       "              'creation_timestamp': None,\n",
       "              'deletion_grace_period_seconds': None,\n",
       "              'deletion_timestamp': None,\n",
       "              'finalizers': None,\n",
       "              'generate_name': None,\n",
       "              'generation': None,\n",
       "              'labels': {'fluentd': 'true'},\n",
       "              'managed_fields': None,\n",
       "              'name': 'marco-paspuel-lr',\n",
       "              'namespace': 'test',\n",
       "              'owner_references': None,\n",
       "              'resource_version': None,\n",
       "              'self_link': None,\n",
       "              'uid': None},\n",
       " 'spec': {'annotations': {'seldon.io/engine-seldon-log-messages-externally': 'true'},\n",
       "          'name': 'marco-paspuel-lr',\n",
       "          'oauth_key': None,\n",
       "          'oauth_secret': None,\n",
       "          'predictors': [{'annotations': None,\n",
       "                          'component_specs': [{'hpa_spec': None,\n",
       "                                               'keda_spec': None,\n",
       "                                               'metadata': {'annotations': None,\n",
       "                                                            'cluster_name': None,\n",
       "                                                            'creation_timestamp': '2021-09-13T15:37:47Z',\n",
       "                                                            'deletion_grace_period_seconds': None,\n",
       "                                                            'deletion_timestamp': None,\n",
       "                                                            'finalizers': None,\n",
       "                                                            'generate_name': None,\n",
       "                                                            'generation': None,\n",
       "                                                            'labels': None,\n",
       "                                                            'managed_fields': None,\n",
       "                                                            'name': None,\n",
       "                                                            'namespace': None,\n",
       "                                                            'owner_references': None,\n",
       "                                                            'resource_version': None,\n",
       "                                                            'self_link': None,\n",
       "                                                            'uid': None},\n",
       "                                               'pdb_spec': None,\n",
       "                                               'replicas': None,\n",
       "                                               'spec': {'active_deadline_seconds': None,\n",
       "                                                        'affinity': None,\n",
       "                                                        'automount_service_account_token': None,\n",
       "                                                        'containers': [{'args': None,\n",
       "                                                                        'command': None,\n",
       "                                                                        'env': None,\n",
       "                                                                        'env_from': None,\n",
       "                                                                        'image': None,\n",
       "                                                                        'image_pull_policy': None,\n",
       "                                                                        'lifecycle': None,\n",
       "                                                                        'liveness_probe': None,\n",
       "                                                                        'name': 'marco-paspuel-lr-container',\n",
       "                                                                        'ports': None,\n",
       "                                                                        'readiness_probe': None,\n",
       "                                                                        'resources': {'limits': {'cpu': '1',\n",
       "                                                                                                 'memory': '1Gi'},\n",
       "                                                                                      'requests': {'cpu': '1',\n",
       "                                                                                                   'memory': '1Gi'}},\n",
       "                                                                        'security_context': None,\n",
       "                                                                        'startup_probe': None,\n",
       "                                                                        'stdin': None,\n",
       "                                                                        'stdin_once': None,\n",
       "                                                                        'termination_message_path': None,\n",
       "                                                                        'termination_message_policy': None,\n",
       "                                                                        'tty': None,\n",
       "                                                                        'volume_devices': None,\n",
       "                                                                        'volume_mounts': None,\n",
       "                                                                        'working_dir': None}],\n",
       "                                                        'dns_config': None,\n",
       "                                                        'dns_policy': None,\n",
       "                                                        'enable_service_links': None,\n",
       "                                                        'ephemeral_containers': None,\n",
       "                                                        'host_aliases': None,\n",
       "                                                        'host_ipc': None,\n",
       "                                                        'host_network': None,\n",
       "                                                        'host_pid': None,\n",
       "                                                        'hostname': None,\n",
       "                                                        'image_pull_secrets': None,\n",
       "                                                        'init_containers': None,\n",
       "                                                        'node_name': None,\n",
       "                                                        'node_selector': None,\n",
       "                                                        'overhead': None,\n",
       "                                                        'preemption_policy': None,\n",
       "                                                        'priority': None,\n",
       "                                                        'priority_class_name': None,\n",
       "                                                        'readiness_gates': None,\n",
       "                                                        'restart_policy': None,\n",
       "                                                        'runtime_class_name': None,\n",
       "                                                        'scheduler_name': None,\n",
       "                                                        'security_context': None,\n",
       "                                                        'service_account': None,\n",
       "                                                        'service_account_name': None,\n",
       "                                                        'set_hostname_as_fqdn': None,\n",
       "                                                        'share_process_namespace': None,\n",
       "                                                        'subdomain': None,\n",
       "                                                        'termination_grace_period_seconds': None,\n",
       "                                                        'tolerations': None,\n",
       "                                                        'topology_spread_constraints': None,\n",
       "                                                        'volumes': None}}],\n",
       "                          'engine_resources': {'limits': None,\n",
       "                                               'requests': None},\n",
       "                          'explainer': None,\n",
       "                          'graph': {'children': None,\n",
       "                                    'endpoint': {'grpc_port': None,\n",
       "                                                 'http_port': None,\n",
       "                                                 'service_host': None,\n",
       "                                                 'service_port': None,\n",
       "                                                 'type': 'REST'},\n",
       "                                    'env_secret_ref_name': None,\n",
       "                                    'implementation': 'SKLEARN_SERVER',\n",
       "                                    'logger': {'mode': 'all', 'url': None},\n",
       "                                    'methods': None,\n",
       "                                    'model_uri': 'gs://tom-seldon-examples/deploy-workshop/marco-paspuel/lr',\n",
       "                                    'name': 'marco-paspuel-lr-container',\n",
       "                                    'parameters': None,\n",
       "                                    'service_account_name': None,\n",
       "                                    'storage_initializer_image': None,\n",
       "                                    'type': None},\n",
       "                          'labels': None,\n",
       "                          'name': 'default',\n",
       "                          'replicas': 1,\n",
       "                          'shadow': None,\n",
       "                          'ssl': None,\n",
       "                          'svc_orch_spec': {'env': None,\n",
       "                                            'replicas': None,\n",
       "                                            'resources': None},\n",
       "                          'traffic': 100}],\n",
       "          'protocol': 'seldon',\n",
       "          'replicas': None,\n",
       "          'server_type': None,\n",
       "          'transport': 'rest'},\n",
       " 'status': {'address': None,\n",
       "            'deployment_status': None,\n",
       "            'description': None,\n",
       "            'replicas': None,\n",
       "            'service_status': None,\n",
       "            'state': None}}"
      ]
     },
     "execution_count": 30,
     "metadata": {},
     "output_type": "execute_result"
    }
   ],
   "source": [
    "deployment_api = SeldonDeploymentsApi(auth())\n",
    "deployment_api.create_seldon_deployment(namespace=NAMESPACE, mldeployment=mldeployment)"
   ]
  },
  {
   "cell_type": "markdown",
   "metadata": {
    "id": "KvF85kJmSW1F"
   },
   "source": [
    "Our model should now be running as a fully fledged microservice. You can now log into Seldon Deploy and test your deployment:\n",
    "\n",
    "* URL: http://SD_IP/seldon-deploy/\n",
    "* Username: admin@seldon.io\n",
    "* Password: 12341234\n",
    "\n",
    "You can now test your model with this request.\n",
    "```\n",
    "{\n",
    "    \"data\": {\n",
    "    \"names\": [\"Sepal length\",\"Sepal width\",\"Petal length\", \"Petal Width\"],\n",
    "    \"ndarray\": [\n",
    "        [6.8,  2.8,  4.8,  1.4]\n",
    "    ]\n",
    "    }\n",
    "}\n",
    "```\n",
    "\n",
    "Next, you will add your XGBoost model as a canary and promote that to be the main predictor through the UI. Make sure to select 'XGBoost' as the runtime and use the following model artefact address:  "
   ]
  },
  {
   "cell_type": "code",
   "execution_count": 31,
   "metadata": {
    "scrolled": true
   },
   "outputs": [
    {
     "name": "stdout",
     "output_type": "stream",
     "text": [
      "gs://tom-seldon-examples/deploy-workshop/marco-paspuel/lr\n"
     ]
    }
   ],
   "source": [
    "print(f\"gs://tom-seldon-examples/deploy-workshop/{YOUR_NAME}/{MODEL_NAME}\")"
   ]
  },
  {
   "cell_type": "markdown",
   "metadata": {
    "id": "ExvflvoPSW1F"
   },
   "source": [
    "# Adding a Model Explainer\n",
    "\n",
    "Next, we shall train an explainer to glean deeper insights into the decisions being made by our model. We will make use of the [Anchors algorithm](https://docs.seldon.io/projects/alibi/en/stable/methods/Anchors.html), which has a production grade implementation available using the Seldon Alibi Explain library.\n",
    "\n",
    "The algorithm provides model-agnostic (black box) and human interpretable explanations suitable for classification models applied to images, text and tabular data. The idea behind anchors is to explain the behaviour of complex models with high-precision rules called anchors. These anchors are locally sufficient conditions to ensure a certain prediction with a high degree of confidence. Anchor algorithms incorporate coverage, which is the region the explanation applies within and are optimised to maximize coverage.\n",
    "\n",
    "As an example of anchors for tabular data, if we want to predict whether a person makes less or more than £50,000 per year based on the person’s characteristics including age (continuous variable) and marital status (categorical variable), then the following would be a potential anchor: Hugo makes more than £50,000 because he is married and his age is between 35 and 45 years.\n",
    "\n",
    "The first step will be to write a simple prediction function which the explainer can call in order to query our logistic regression model."
   ]
  },
  {
   "cell_type": "code",
   "execution_count": 32,
   "metadata": {
    "id": "oycUUgaiSW1G"
   },
   "outputs": [],
   "source": [
    "predict_fn = lambda x: lr.predict(x)"
   ]
  },
  {
   "cell_type": "markdown",
   "metadata": {
    "id": "DZcKCtnwSW1G"
   },
   "source": [
    "Now, define and fit the AnchorTabular explainer. "
   ]
  },
  {
   "cell_type": "code",
   "execution_count": 33,
   "metadata": {
    "colab": {
     "base_uri": "https://localhost:8080/"
    },
    "id": "Zp81TwebSW1G",
    "outputId": "cc79ef19-8e23-46f6-954f-869bdb2fcdde"
   },
   "outputs": [
    {
     "data": {
      "text/plain": [
       "AnchorTabular(meta={\n",
       "  'name': 'AnchorTabular',\n",
       "  'type': ['blackbox'],\n",
       "  'explanations': ['local'],\n",
       "  'params': {'seed': None, 'disc_perc': (25, 50, 75)}}\n",
       ")"
      ]
     },
     "execution_count": 33,
     "metadata": {},
     "output_type": "execute_result"
    }
   ],
   "source": [
    "explainer = AnchorTabular(predict_fn, feature_names)\n",
    "explainer.fit(X_train, disc_perc=(25, 50, 75))"
   ]
  },
  {
   "cell_type": "markdown",
   "metadata": {
    "id": "3FrHaIVCSW1H"
   },
   "source": [
    "Predicting the first instance within the test set, and consequently generating an explanation for that prediction."
   ]
  },
  {
   "cell_type": "code",
   "execution_count": 34,
   "metadata": {
    "colab": {
     "base_uri": "https://localhost:8080/"
    },
    "id": "fscujWkSSW1H",
    "outputId": "f0ccb312-721f-449d-d8d9-c4e55a59a488"
   },
   "outputs": [
    {
     "name": "stdout",
     "output_type": "stream",
     "text": [
      "Prediction:  versicolor\n",
      "Anchor: 4.25 < petal length (cm) <= 5.10 AND petal width (cm) <= 1.30\n",
      "Precision: 0.97\n",
      "Coverage: 0.04\n"
     ]
    }
   ],
   "source": [
    "idx = 0\n",
    "print('Prediction: ', class_names[explainer.predictor(X_test[idx].reshape(1, -1))[0]])\n",
    "\n",
    "explanation = explainer.explain(X_test[idx], threshold=0.95)\n",
    "print('Anchor: %s' % (' AND '.join(explanation.anchor)))\n",
    "print('Precision: %.2f' % explanation.precision)\n",
    "print('Coverage: %.2f' % explanation.coverage)"
   ]
  },
  {
   "cell_type": "code",
   "execution_count": 35,
   "metadata": {
    "colab": {
     "base_uri": "https://localhost:8080/"
    },
    "id": "ztnYkhmLSW1H",
    "outputId": "9ce86c0e-71d4-4c52-a70c-9b6e78e9c4e2"
   },
   "outputs": [
    {
     "data": {
      "text/plain": [
       "array([6.1, 2.8, 4.7, 1.2])"
      ]
     },
     "execution_count": 35,
     "metadata": {},
     "output_type": "execute_result"
    }
   ],
   "source": [
    "X_test[0]"
   ]
  },
  {
   "cell_type": "markdown",
   "metadata": {
    "id": "laqX0JxrSW1I"
   },
   "source": [
    "Save the explainer. Your explainer must be saved as `explainer.dill` as once again Seldon Deploy will look for this artefact within a top level directory. \n",
    "\n",
    "NOTE: Dill is used to serialise the object instead of pickle as it offers a greater flexibilty in the object types which can be serialised. "
   ]
  },
  {
   "cell_type": "code",
   "execution_count": 36,
   "metadata": {
    "id": "HDDra_eISW1I"
   },
   "outputs": [],
   "source": [
    "dill.dump(explainer, open( \"explainer.dill\", \"wb\"))"
   ]
  },
  {
   "cell_type": "markdown",
   "metadata": {
    "id": "TUkaupCOSW1I"
   },
   "source": [
    "Uploading the explainer to a Google Storage bucket. "
   ]
  },
  {
   "cell_type": "code",
   "execution_count": 37,
   "metadata": {
    "colab": {
     "base_uri": "https://localhost:8080/"
    },
    "id": "1LAeqUV5SW1J",
    "outputId": "da539114-7061-471e-f540-89e11ec2616e"
   },
   "outputs": [
    {
     "name": "stdout",
     "output_type": "stream",
     "text": [
      "Copying file://explainer.dill [Content-Type=application/octet-stream]...\n",
      "/ [1 files][102.4 MiB/102.4 MiB]                                                \n",
      "Operation completed over 1 objects/102.4 MiB.                                    \n"
     ]
    }
   ],
   "source": [
    "!gsutil cp explainer.dill gs://tom-seldon-examples/deploy-workshop/{YOUR_NAME}/lr/explainer.dill"
   ]
  },
  {
   "cell_type": "markdown",
   "metadata": {
    "id": "_UJCBp41SW1J"
   },
   "source": [
    "We will not update our deployment with the model trained in this notebook as Alibi Explain requires explainers to be trained within a Python 3.6.1 environment which Google Colab currently does not offer. We'll use a pretrained model instead."
   ]
  },
  {
   "cell_type": "code",
   "execution_count": 38,
   "metadata": {
    "id": "O9Mm-zCRSW1J"
   },
   "outputs": [],
   "source": [
    "EXPLAINER_TYPE = \"AnchorTabular\"\n",
    "EXPLAINER_URI = f\"gs://tom-seldon-examples/deploy-workshop/pretrained\"\n",
    "\n",
    "explainer_spec = {\n",
    "                    \"type\": EXPLAINER_TYPE,\n",
    "                    \"modelUri\": EXPLAINER_URI,\n",
    "                    \"containerSpec\": {\n",
    "                        \"name\": \"\",\n",
    "                        \"resources\": {}\n",
    "                    }\n",
    "                }"
   ]
  },
  {
   "cell_type": "code",
   "execution_count": 39,
   "metadata": {
    "colab": {
     "base_uri": "https://localhost:8080/"
    },
    "id": "bQQC-xFQSW1K",
    "outputId": "a1081ade-75a0-489a-dbe4-1a6b6d72f356"
   },
   "outputs": [
    {
     "data": {
      "text/plain": [
       "{'kind': 'SeldonDeployment',\n",
       " 'metadata': {'name': 'marco-paspuel-lr',\n",
       "  'namespace': 'test',\n",
       "  'labels': {'fluentd': 'true'}},\n",
       " 'apiVersion': 'machinelearning.seldon.io/v1alpha2',\n",
       " 'spec': {'name': 'marco-paspuel-lr',\n",
       "  'annotations': {'seldon.io/engine-seldon-log-messages-externally': 'true'},\n",
       "  'protocol': 'seldon',\n",
       "  'transport': 'rest',\n",
       "  'predictors': [{'componentSpecs': [{'spec': {'containers': [{'name': 'marco-paspuel-lr-container',\n",
       "         'resources': {'requests': {'cpu': '1', 'memory': '1Gi'},\n",
       "          'limits': {'cpu': '1', 'memory': '1Gi'}}}]}}],\n",
       "    'name': 'default',\n",
       "    'replicas': 1,\n",
       "    'traffic': 100,\n",
       "    'graph': {'implementation': 'SKLEARN_SERVER',\n",
       "     'modelUri': 'gs://tom-seldon-examples/deploy-workshop/marco-paspuel/lr',\n",
       "     'name': 'marco-paspuel-lr-container',\n",
       "     'endpoint': {'type': 'REST'},\n",
       "     'parameters': [],\n",
       "     'children': [],\n",
       "     'logger': {'mode': 'all'}},\n",
       "    'explainer': {'type': 'AnchorTabular',\n",
       "     'modelUri': 'gs://tom-seldon-examples/deploy-workshop/pretrained',\n",
       "     'containerSpec': {'name': '', 'resources': {}}}}]},\n",
       " 'status': {}}"
      ]
     },
     "execution_count": 39,
     "metadata": {},
     "output_type": "execute_result"
    }
   ],
   "source": [
    "mldeployment['spec']['predictors'][0]['explainer'] = explainer_spec\n",
    "mldeployment"
   ]
  },
  {
   "cell_type": "markdown",
   "metadata": {
    "id": "XKgtLMr3SW1K"
   },
   "source": [
    "Finally, creating our new deployment with the explainer added. "
   ]
  },
  {
   "cell_type": "code",
   "execution_count": 40,
   "metadata": {
    "colab": {
     "base_uri": "https://localhost:8080/"
    },
    "id": "jISzlnLsSW1K",
    "outputId": "2ea80f08-d362-4597-d7cb-a08dfe69cd7f"
   },
   "outputs": [
    {
     "name": "stderr",
     "output_type": "stream",
     "text": [
      "2021-09-13 15:40:55,633 WARNING DEPRECATED!! Future versions of seldon_deploy_sdk will require that the username field is set in the Configuration object (under config.username). Subsequently, the authenticate() method won't accept a username parameter anymore.\n",
      "2021-09-13 15:40:55,635 WARNING DEPRECATED!! Future versions of seldon_deploy_sdk will require that the password field is set in the Configuration object (under config.password). Subsequently, the authenticate() method won't accept a password parameter anymore.\n",
      "2021-09-13 15:40:55,696 WARNING DEPRECATED!! Future versions of seldon_deploy_sdk will require that the username field is set in the Configuration object (under config.username). Subsequently, the authenticate() method won't accept a username parameter anymore.\n",
      "2021-09-13 15:40:55,698 WARNING DEPRECATED!! Future versions of seldon_deploy_sdk will require that the password field is set in the Configuration object (under config.password). Subsequently, the authenticate() method won't accept a password parameter anymore.\n"
     ]
    },
    {
     "data": {
      "text/plain": [
       "{'api_version': 'machinelearning.seldon.io/v1alpha2',\n",
       " 'kind': 'SeldonDeployment',\n",
       " 'metadata': {'annotations': None,\n",
       "              'cluster_name': None,\n",
       "              'creation_timestamp': None,\n",
       "              'deletion_grace_period_seconds': None,\n",
       "              'deletion_timestamp': None,\n",
       "              'finalizers': None,\n",
       "              'generate_name': None,\n",
       "              'generation': None,\n",
       "              'labels': {'fluentd': 'true'},\n",
       "              'managed_fields': None,\n",
       "              'name': 'marco-paspuel-lr',\n",
       "              'namespace': 'test',\n",
       "              'owner_references': None,\n",
       "              'resource_version': None,\n",
       "              'self_link': None,\n",
       "              'uid': None},\n",
       " 'spec': {'annotations': {'seldon.io/engine-seldon-log-messages-externally': 'true'},\n",
       "          'name': 'marco-paspuel-lr',\n",
       "          'oauth_key': None,\n",
       "          'oauth_secret': None,\n",
       "          'predictors': [{'annotations': None,\n",
       "                          'component_specs': [{'hpa_spec': None,\n",
       "                                               'keda_spec': None,\n",
       "                                               'metadata': {'annotations': None,\n",
       "                                                            'cluster_name': None,\n",
       "                                                            'creation_timestamp': '2021-09-13T15:40:55Z',\n",
       "                                                            'deletion_grace_period_seconds': None,\n",
       "                                                            'deletion_timestamp': None,\n",
       "                                                            'finalizers': None,\n",
       "                                                            'generate_name': None,\n",
       "                                                            'generation': None,\n",
       "                                                            'labels': None,\n",
       "                                                            'managed_fields': None,\n",
       "                                                            'name': None,\n",
       "                                                            'namespace': None,\n",
       "                                                            'owner_references': None,\n",
       "                                                            'resource_version': None,\n",
       "                                                            'self_link': None,\n",
       "                                                            'uid': None},\n",
       "                                               'pdb_spec': None,\n",
       "                                               'replicas': None,\n",
       "                                               'spec': {'active_deadline_seconds': None,\n",
       "                                                        'affinity': None,\n",
       "                                                        'automount_service_account_token': None,\n",
       "                                                        'containers': [{'args': None,\n",
       "                                                                        'command': None,\n",
       "                                                                        'env': None,\n",
       "                                                                        'env_from': None,\n",
       "                                                                        'image': None,\n",
       "                                                                        'image_pull_policy': None,\n",
       "                                                                        'lifecycle': None,\n",
       "                                                                        'liveness_probe': None,\n",
       "                                                                        'name': 'marco-paspuel-lr-container',\n",
       "                                                                        'ports': None,\n",
       "                                                                        'readiness_probe': None,\n",
       "                                                                        'resources': {'limits': {'cpu': '1',\n",
       "                                                                                                 'memory': '1Gi'},\n",
       "                                                                                      'requests': {'cpu': '1',\n",
       "                                                                                                   'memory': '1Gi'}},\n",
       "                                                                        'security_context': None,\n",
       "                                                                        'startup_probe': None,\n",
       "                                                                        'stdin': None,\n",
       "                                                                        'stdin_once': None,\n",
       "                                                                        'termination_message_path': None,\n",
       "                                                                        'termination_message_policy': None,\n",
       "                                                                        'tty': None,\n",
       "                                                                        'volume_devices': None,\n",
       "                                                                        'volume_mounts': None,\n",
       "                                                                        'working_dir': None}],\n",
       "                                                        'dns_config': None,\n",
       "                                                        'dns_policy': None,\n",
       "                                                        'enable_service_links': None,\n",
       "                                                        'ephemeral_containers': None,\n",
       "                                                        'host_aliases': None,\n",
       "                                                        'host_ipc': None,\n",
       "                                                        'host_network': None,\n",
       "                                                        'host_pid': None,\n",
       "                                                        'hostname': None,\n",
       "                                                        'image_pull_secrets': None,\n",
       "                                                        'init_containers': None,\n",
       "                                                        'node_name': None,\n",
       "                                                        'node_selector': None,\n",
       "                                                        'overhead': None,\n",
       "                                                        'preemption_policy': None,\n",
       "                                                        'priority': None,\n",
       "                                                        'priority_class_name': None,\n",
       "                                                        'readiness_gates': None,\n",
       "                                                        'restart_policy': None,\n",
       "                                                        'runtime_class_name': None,\n",
       "                                                        'scheduler_name': None,\n",
       "                                                        'security_context': None,\n",
       "                                                        'service_account': None,\n",
       "                                                        'service_account_name': None,\n",
       "                                                        'set_hostname_as_fqdn': None,\n",
       "                                                        'share_process_namespace': None,\n",
       "                                                        'subdomain': None,\n",
       "                                                        'termination_grace_period_seconds': None,\n",
       "                                                        'tolerations': None,\n",
       "                                                        'topology_spread_constraints': None,\n",
       "                                                        'volumes': None}}],\n",
       "                          'engine_resources': {'limits': None,\n",
       "                                               'requests': None},\n",
       "                          'explainer': {'config': None,\n",
       "                                        'container_spec': {'args': None,\n",
       "                                                           'command': None,\n",
       "                                                           'env': None,\n",
       "                                                           'env_from': None,\n",
       "                                                           'image': None,\n",
       "                                                           'image_pull_policy': None,\n",
       "                                                           'lifecycle': None,\n",
       "                                                           'liveness_probe': None,\n",
       "                                                           'name': '',\n",
       "                                                           'ports': None,\n",
       "                                                           'readiness_probe': None,\n",
       "                                                           'resources': {'limits': None,\n",
       "                                                                         'requests': None},\n",
       "                                                           'security_context': None,\n",
       "                                                           'startup_probe': None,\n",
       "                                                           'stdin': None,\n",
       "                                                           'stdin_once': None,\n",
       "                                                           'termination_message_path': None,\n",
       "                                                           'termination_message_policy': None,\n",
       "                                                           'tty': None,\n",
       "                                                           'volume_devices': None,\n",
       "                                                           'volume_mounts': None,\n",
       "                                                           'working_dir': None},\n",
       "                                        'endpoint': None,\n",
       "                                        'env_secret_ref_name': None,\n",
       "                                        'model_uri': 'gs://tom-seldon-examples/deploy-workshop/pretrained',\n",
       "                                        'replicas': None,\n",
       "                                        'service_account_name': None,\n",
       "                                        'storage_initializer_image': None,\n",
       "                                        'type': 'AnchorTabular'},\n",
       "                          'graph': {'children': None,\n",
       "                                    'endpoint': {'grpc_port': None,\n",
       "                                                 'http_port': None,\n",
       "                                                 'service_host': None,\n",
       "                                                 'service_port': None,\n",
       "                                                 'type': 'REST'},\n",
       "                                    'env_secret_ref_name': None,\n",
       "                                    'implementation': 'SKLEARN_SERVER',\n",
       "                                    'logger': {'mode': 'all', 'url': None},\n",
       "                                    'methods': None,\n",
       "                                    'model_uri': 'gs://tom-seldon-examples/deploy-workshop/marco-paspuel/lr',\n",
       "                                    'name': 'marco-paspuel-lr-container',\n",
       "                                    'parameters': None,\n",
       "                                    'service_account_name': None,\n",
       "                                    'storage_initializer_image': None,\n",
       "                                    'type': None},\n",
       "                          'labels': None,\n",
       "                          'name': 'default',\n",
       "                          'replicas': 1,\n",
       "                          'shadow': None,\n",
       "                          'ssl': None,\n",
       "                          'svc_orch_spec': {'env': None,\n",
       "                                            'replicas': None,\n",
       "                                            'resources': None},\n",
       "                          'traffic': 100}],\n",
       "          'protocol': 'seldon',\n",
       "          'replicas': None,\n",
       "          'server_type': None,\n",
       "          'transport': 'rest'},\n",
       " 'status': {'address': None,\n",
       "            'deployment_status': None,\n",
       "            'description': None,\n",
       "            'replicas': None,\n",
       "            'service_status': None,\n",
       "            'state': None}}"
      ]
     },
     "execution_count": 40,
     "metadata": {},
     "output_type": "execute_result"
    }
   ],
   "source": [
    "deployment_api = SeldonDeploymentsApi(auth())\n",
    "deployment_api.create_seldon_deployment(namespace=NAMESPACE, mldeployment=mldeployment)"
   ]
  },
  {
   "cell_type": "markdown",
   "metadata": {
    "id": "Q2ASDo87SW1L"
   },
   "source": [
    "# Outlier Detection"
   ]
  },
  {
   "cell_type": "markdown",
   "metadata": {
    "id": "Mz8abHEmSW1L"
   },
   "source": [
    "In this example you will make use of a Mahalanbois outlier detector. This algorithm calculates an outlier score, which is a measure of distance from the center of the features distribution (Mahalanobis distance). The Mahalanobis distance is focused on the idea of measuring how many standard deviations away your data point is from the mean of the distribution. \n",
    "\n",
    "The Mahalanobis outlier detector is an online detector, meaning that it has a running mean and covariance matrix with which it compares the new data points with to classify as outliers or not. It is online in the sense that each new data point contributes to this running mean and covariance matrix.\n",
    "\n",
    "The first step is to initialise your outlier detector. There are 4 parameters which will be critical to the performance of your outlier detector: \n",
    "* `threshold`: The distance threshold above which your data instance is flagged as an outlier. To begin with you can leave this blank and infer a given threshold later when fitting your detector to the dataset. \n",
    "* `n_components`: The number of components to use within the PCA. PCA is used to reduce the number of feature dimensions. This will make it easier to compute the Mahalanbois calculation especially on high feature datasets. \n",
    "* `std_clip`: Feature-wise standard deviation used to clip the observations before updating the mean and covariance matrix. \n",
    "* `start_clip`: Number of observations before clipping is applied.\n",
    "\n",
    "If your data has categorical features then these can be specified using the `cat_vars` parameter. "
   ]
  },
  {
   "cell_type": "markdown",
   "metadata": {
    "id": "LIhpaPnHSW1L"
   },
   "source": [
    "Firstly, you will set the `n_components` value. The simplest way to set this value is using `n_components == min(n_samples, n_features)` and then scaling down if computational performance slows the computation of outliers.\n",
    "\n",
    "A more rigourous approach is demonstrated below. This essentially calculates the covariance matrix- how each feature varies with every other feature. This determines the eigenvalues and eigenvectors of the covariance matrix. \n",
    "\n",
    "The eigenvalues capture the variance of each component in the direction of the eigenvector. Therefore, you can use this to understand the contribution of each feature to the overall variance. From here you can make a determination of how many components to include in your PCA, as you now understand the contribution of each of the features. "
   ]
  },
  {
   "cell_type": "code",
   "execution_count": 41,
   "metadata": {
    "colab": {
     "base_uri": "https://localhost:8080/"
    },
    "id": "fx2qyaINSW1M",
    "outputId": "1b79816b-1c1a-4a82-96b7-a7d28ca840dd"
   },
   "outputs": [
    {
     "data": {
      "text/plain": [
       "array([[ 0.67865476, -0.03956162,  1.24462745,  0.49670868],\n",
       "       [-0.03956162,  0.20171148, -0.34006162, -0.12484594],\n",
       "       [ 1.24462745, -0.34006162,  3.07071148,  1.26893557],\n",
       "       [ 0.49670868, -0.12484594,  1.26893557,  0.56593838]])"
      ]
     },
     "execution_count": 41,
     "metadata": {},
     "output_type": "execute_result"
    }
   ],
   "source": [
    "mean, stdev = X_train.mean(axis=0), X_train.std(axis=0)\n",
    "cov_mat = np.cov((X_train - mean).T)\n",
    "cov_mat"
   ]
  },
  {
   "cell_type": "code",
   "execution_count": 42,
   "metadata": {
    "colab": {
     "base_uri": "https://localhost:8080/"
    },
    "id": "h7zJKD58SW1O",
    "outputId": "125cc67a-71bd-466a-8185-c51c152d9523"
   },
   "outputs": [
    {
     "name": "stdout",
     "output_type": "stream",
     "text": [
      "Eigenvectors \n",
      " [[ 0.35922175 -0.66072216 -0.5781132   0.31652976]\n",
      " [-0.08867716 -0.72708635  0.60569412 -0.31083185]\n",
      " [ 0.85800365  0.16688652  0.08006791 -0.4791323 ]\n",
      " [ 0.35626652  0.08331002  0.54084091  0.75738016]]\n",
      "Eigenvectors \n",
      " [4.15384465 0.25811933 0.08303984 0.02201228]\n"
     ]
    }
   ],
   "source": [
    "eig_vals, eig_vecs = np.linalg.eig(cov_mat)\n",
    "print(f'Eigenvectors \\n {eig_vecs}')\n",
    "print(f'Eigenvectors \\n {eig_vals}')"
   ]
  },
  {
   "cell_type": "code",
   "execution_count": 43,
   "metadata": {
    "colab": {
     "base_uri": "https://localhost:8080/"
    },
    "id": "Rivk1Y4ESW1P",
    "outputId": "ba8dfb42-6005-41da-9621-841668537b77"
   },
   "outputs": [
    {
     "name": "stdout",
     "output_type": "stream",
     "text": [
      "Variance captured by each component:\n",
      "[91.95992565966301, 5.714377120220816, 1.8383782587915891, 0.48731896132459807]\n",
      "--------------------------------------------------------------------------------\n",
      "Cumulative variance captured as we travel each component:\n",
      "[ 91.95992566  97.67430278  99.51268104 100.        ]\n"
     ]
    }
   ],
   "source": [
    "total = sum(eig_vals)\n",
    "var_exp = [(i / total)*100 for i in sorted(eig_vals, reverse=True)]\n",
    "cum_var_exp = np.cumsum(var_exp)\n",
    "\n",
    "print(\"Variance captured by each component:\")\n",
    "print(var_exp)\n",
    "print(80 * \"-\")\n",
    "print(\"Cumulative variance captured as we travel each component:\")\n",
    "print(cum_var_exp)"
   ]
  },
  {
   "cell_type": "markdown",
   "metadata": {
    "id": "uE7nd26_SW1S"
   },
   "source": [
    "From the above you can see that 91.9% of the variance is captured by a single component, therefore you could reasonably set `n_components = 1`. However, you gain an additional 5% points by including a second one, and therefore:"
   ]
  },
  {
   "cell_type": "code",
   "execution_count": 44,
   "metadata": {
    "id": "99vAd8prSW1S"
   },
   "outputs": [],
   "source": [
    "n_components = 2"
   ]
  },
  {
   "cell_type": "markdown",
   "metadata": {
    "id": "D7pUn1QTSW1T"
   },
   "source": [
    "`std_clip` is used to ensure that outliers do not impact the typical operation of the detector. If many, many outliers (e.g. in a DDoS attack, or multiple broken parts in a assembly line) were sent to the detector then the weights (covariance matrix) would shift to include these outliers, therefore we set a `std_clip` whereby any data points above this clip level will have their `stdev` clipped to this maximal value. \n",
    "\n",
    "Setting the `std_clip` is case by case dependent, but you will use the following heuristic to set it. You will look at the `stdev` across the features, selecting the one which is the most widely distributed (the highest value). You will then set the `std_clip` to be 2 stdevs away from this maximal value. \n",
    "\n",
    "The code snippet below illustrates this."
   ]
  },
  {
   "cell_type": "code",
   "execution_count": 45,
   "metadata": {
    "colab": {
     "base_uri": "https://localhost:8080/"
    },
    "id": "0-V_rRnISW1U",
    "outputId": "c9989d4a-eae6-419d-eba6-d8dc589c736f"
   },
   "outputs": [
    {
     "data": {
      "text/plain": [
       "3.49"
      ]
     },
     "execution_count": 45,
     "metadata": {},
     "output_type": "execute_result"
    }
   ],
   "source": [
    "std_clip = (2 * stdev.max(axis=0)).round(decimals=2)\n",
    "std_clip"
   ]
  },
  {
   "cell_type": "markdown",
   "metadata": {
    "id": "uQRD5flhSW1V"
   },
   "source": [
    "Finally, the `start_clip` value is used to \"warm up\" the outlier detector. When the detector is first initialised it can be sensitive to new observations- which lead to large changes in the online mean and covariance matrix. During this period of time you do not want to show the outlier detector any outliers as it can greatly skew the accuracy of the running mean and covariance matrix.\n",
    "\n",
    "Thus during this \"warm up\" period you only show the outlier detector examples of normal data, and do not perform any clipping. The `start_clip` value determines after which point you should begin clipping data points and introducing outliers into the mix. \n",
    "\n",
    "Therefore `start_clip` in this case will be equal to the length of `X_train`, as you know that there are no outlying data points within the original Iris dataset. "
   ]
  },
  {
   "cell_type": "code",
   "execution_count": 46,
   "metadata": {
    "colab": {
     "base_uri": "https://localhost:8080/"
    },
    "id": "qKhAbTsoSW1W",
    "outputId": "472dabab-b0ee-4dcc-d2fe-85f151938d1f"
   },
   "outputs": [
    {
     "data": {
      "text/plain": [
       "120"
      ]
     },
     "execution_count": 46,
     "metadata": {},
     "output_type": "execute_result"
    }
   ],
   "source": [
    "start_clip = len(X_train)\n",
    "start_clip"
   ]
  },
  {
   "cell_type": "code",
   "execution_count": 47,
   "metadata": {
    "colab": {
     "base_uri": "https://localhost:8080/"
    },
    "id": "ErgHKxKBSW1W",
    "outputId": "7da71478-08bc-4c60-dcf5-36316cdfe94a"
   },
   "outputs": [
    {
     "name": "stderr",
     "output_type": "stream",
     "text": [
      "No threshold level set. Need to infer threshold using `infer_threshold`.\n"
     ]
    }
   ],
   "source": [
    "threshold = None\n",
    "\n",
    "od = Mahalanobis(threshold,\n",
    "                 n_components=n_components,\n",
    "                 std_clip=std_clip,\n",
    "                 start_clip=start_clip)"
   ]
  },
  {
   "cell_type": "markdown",
   "metadata": {
    "id": "KlmnPM7VSW1X"
   },
   "source": [
    "If you were dealing with categorical variables you would now run `od.fit(...)` however because the Iris dataset is solely continuous variables you do not need to perform this step. \n",
    "\n",
    "------\n",
    "\n",
    "You do however now need to set the threshold of Mahalanobis distance above which you consider a data instance an outlier. This can be done using the convenient `infer_threshold()` method. \n",
    "\n",
    "You first create a synthetic outlier batch using your training data and labels, with a certain percentage of the batch as outliers. Based upon this percentage of outliers you shall update the threshold value."
   ]
  },
  {
   "cell_type": "code",
   "execution_count": 48,
   "metadata": {
    "colab": {
     "base_uri": "https://localhost:8080/"
    },
    "id": "RjJ572aASW1X",
    "outputId": "ecf16a2a-8ec4-4d73-f2b7-4c2729aab6d6"
   },
   "outputs": [
    {
     "name": "stdout",
     "output_type": "stream",
     "text": [
      "5.0% outliers\n"
     ]
    }
   ],
   "source": [
    "np.random.seed(0)\n",
    "perc_outlier = 5\n",
    "\n",
    "threshold_batch = create_outlier_batch(X_train, y_train, n_samples=1000, perc_outlier=perc_outlier)\n",
    "X_threshold, y_threshold = threshold_batch.data.astype('float'), threshold_batch.target\n",
    "X_threshold = (X_threshold - mean) / stdev\n",
    "print('{}% outliers'.format(100 * y_threshold.mean()))"
   ]
  },
  {
   "cell_type": "markdown",
   "metadata": {
    "id": "oIQvHu46SW1Y"
   },
   "source": [
    "Once you have created the synthetic data we can determine the threshold using `infer_threshold`:"
   ]
  },
  {
   "cell_type": "code",
   "execution_count": 49,
   "metadata": {
    "colab": {
     "base_uri": "https://localhost:8080/"
    },
    "id": "G6HwtZIpSW1Y",
    "outputId": "dff3443b-4a8c-4ab8-bfb5-1cdfacbd7839"
   },
   "outputs": [
    {
     "name": "stdout",
     "output_type": "stream",
     "text": [
      "New threshold: 8.10689543287148\n"
     ]
    }
   ],
   "source": [
    "od.infer_threshold(X_threshold, threshold_perc=100-perc_outlier)\n",
    "print('New threshold: {}'.format(od.threshold))\n",
    "threshold = od.threshold"
   ]
  },
  {
   "cell_type": "markdown",
   "metadata": {
    "id": "rdKx3-6ySW1Z"
   },
   "source": [
    "You can now test your threshold by generating a second batch of outlying data, this time with a higher proportion of outliers: "
   ]
  },
  {
   "cell_type": "code",
   "execution_count": 50,
   "metadata": {
    "colab": {
     "base_uri": "https://localhost:8080/"
    },
    "id": "aOTdqj1kSW1a",
    "outputId": "6e99fb14-eb03-4434-8520-31c8fd881b4e"
   },
   "outputs": [
    {
     "name": "stdout",
     "output_type": "stream",
     "text": [
      "(1000, 4) (1000,)\n",
      "10.0% outliers\n"
     ]
    }
   ],
   "source": [
    "np.random.seed(1)\n",
    "outlier_batch = create_outlier_batch(X_train, y_train, n_samples=1000, perc_outlier=10)\n",
    "X_outlier, y_outlier = outlier_batch.data.astype('float'), outlier_batch.target\n",
    "X_outlier = (X_outlier - mean) / stdev\n",
    "print(X_outlier.shape, y_outlier.shape)\n",
    "print('{}% outliers'.format(100 * y_outlier.mean()))"
   ]
  },
  {
   "cell_type": "markdown",
   "metadata": {
    "id": "MZl7Z3xOSW1a"
   },
   "source": [
    "Generating outlier predictions from your new detector using the freshly created outlier batch:"
   ]
  },
  {
   "cell_type": "code",
   "execution_count": 51,
   "metadata": {
    "id": "wX2WglxTSW1a"
   },
   "outputs": [],
   "source": [
    "od_preds = od.predict(X_outlier, return_instance_score=True)"
   ]
  },
  {
   "cell_type": "code",
   "execution_count": 54,
   "metadata": {
    "colab": {
     "base_uri": "https://localhost:8080/",
     "height": 287
    },
    "id": "Bt24SjTESW1b",
    "outputId": "e68f56f6-1166-492b-c285-75bafd686a16"
   },
   "outputs": [
    {
     "name": "stdout",
     "output_type": "stream",
     "text": [
      "F1 score: 0.9743589743589743\n"
     ]
    },
    {
     "data": {
      "image/png": "[encoded data removed]",
      "text/plain": [
       "<Figure size 432x288 with 2 Axes>"
      ]
     },
     "metadata": {
      "needs_background": "light"
     },
     "output_type": "display_data"
    }
   ],
   "source": [
    "labels = outlier_batch.target_names\n",
    "y_pred = od_preds['data']['is_outlier']\n",
    "f1 = f1_score(y_outlier, y_pred)\n",
    "print('F1 score: {}'.format(f1))\n",
    "cm = confusion_matrix(y_outlier, y_pred)\n",
    "df_cm = pd.DataFrame(cm, index=labels, columns=labels)\n",
    "sns.heatmap(df_cm, annot=True, cbar=True, linewidths=.5)\n",
    "plt.show()"
   ]
  },
  {
   "cell_type": "code",
   "execution_count": 55,
   "metadata": {
    "colab": {
     "base_uri": "https://localhost:8080/",
     "height": 279
    },
    "id": "mflIqH2mSW1b",
    "outputId": "66c6c4a6-9202-4044-9757-42f53fc5d62a"
   },
   "outputs": [
    {
     "data": {
      "image/png": "[encoded data removed]",
      "text/plain": [
       "<Figure size 432x288 with 1 Axes>"
      ]
     },
     "metadata": {
      "needs_background": "light"
     },
     "output_type": "display_data"
    }
   ],
   "source": [
    "plot_instance_score(od_preds, y_outlier, labels, od.threshold)"
   ]
  },
  {
   "cell_type": "markdown",
   "metadata": {
    "id": "_85cO5sNSW1b"
   },
   "source": [
    "Saving your handiwork is simple. "
   ]
  },
  {
   "cell_type": "code",
   "execution_count": 56,
   "metadata": {
    "colab": {
     "base_uri": "https://localhost:8080/"
    },
    "id": "dkS4_y_wSW1c",
    "outputId": "02cac7e8-54bb-447f-d0f5-5835dbd4cb8e"
   },
   "outputs": [
    {
     "name": "stderr",
     "output_type": "stream",
     "text": [
      "Directory outlier_detector does not exist and is now created.\n"
     ]
    }
   ],
   "source": [
    "save_detector(od, \"outlier_detector\")"
   ]
  },
  {
   "cell_type": "markdown",
   "metadata": {
    "id": "nVlycFf_SW1c"
   },
   "source": [
    "Uploading the outlier detector to a Google Storage bucket.\n",
    "\n",
    "Make sure to replace `<YOUR NAME>` with your name to prevent overwriting others artefacts."
   ]
  },
  {
   "cell_type": "code",
   "execution_count": 57,
   "metadata": {
    "colab": {
     "base_uri": "https://localhost:8080/"
    },
    "id": "Biv60APDSW1e",
    "outputId": "3c4595be-f51d-4bc2-a5bb-273990701b3c"
   },
   "outputs": [
    {
     "name": "stdout",
     "output_type": "stream",
     "text": [
      "Copying file://outlier_detector/Mahalanobis.dill [Content-Type=application/octet-stream]...\n",
      "Copying file://outlier_detector/meta.dill [Content-Type=application/octet-stream]...\n",
      "/ [2 files][  787.0 B/  787.0 B]                                                \n",
      "Operation completed over 2 objects/787.0 B.                                      \n"
     ]
    }
   ],
   "source": [
    "# Recursive copy this time as the OD is saved as a directory containing all the relevant binaries and parameters.\n",
    "!gsutil cp -r outlier_detector gs://tom-seldon-examples/deploy-workshop/{YOUR_NAME}/lr/"
   ]
  },
  {
   "cell_type": "code",
   "execution_count": 58,
   "metadata": {
    "id": "IEodBjJ6SW1i"
   },
   "outputs": [],
   "source": [
    "OD_URI = f'gs://tom-seldon-examples/deploy-workshop/{YOUR_NAME}/lr/outlier_detector/'\n",
    "OD_NAME = 'mahalobanis-od'\n",
    "\n",
    "od_config = {'deployment': DEPLOYMENT_NAME,\n",
    "             'deployment_namespace': NAMESPACE,\n",
    "             'namespace': 'seldon-logs',\n",
    "             'params': {'drift_batch_size': None,\n",
    "                        'env_secret_ref': None,\n",
    "                        'event_source': f'io.seldon.serving.dev-seldondeployment-{DEPLOYMENT_NAME}-outlier',\n",
    "                        'event_type': 'io.seldon.serving.inference.outlier',\n",
    "                        'http_port': '8080',\n",
    "                        'model_name': OD_NAME,\n",
    "                        'protocol': 'seldon.http',\n",
    "                        'reply_url': 'http://seldon-request-logger.seldon-logs',\n",
    "                        'storage_uri': OD_URI,\n",
    "                        'user_permission': None},\n",
    "             'prom_scraping': None,\n",
    "             'url': None}"
   ]
  },
  {
   "cell_type": "code",
   "execution_count": 59,
   "metadata": {
    "colab": {
     "base_uri": "https://localhost:8080/"
    },
    "id": "3H4uXxdOSW1l",
    "outputId": "c6d477b1-9ddf-4e72-8a72-a9b6dcc59362",
    "scrolled": true
   },
   "outputs": [
    {
     "name": "stderr",
     "output_type": "stream",
     "text": [
      "2021-09-13 15:42:02,332 WARNING DEPRECATED!! Future versions of seldon_deploy_sdk will require that the username field is set in the Configuration object (under config.username). Subsequently, the authenticate() method won't accept a username parameter anymore.\n",
      "2021-09-13 15:42:02,336 WARNING DEPRECATED!! Future versions of seldon_deploy_sdk will require that the password field is set in the Configuration object (under config.password). Subsequently, the authenticate() method won't accept a password parameter anymore.\n",
      "2021-09-13 15:42:02,391 WARNING DEPRECATED!! Future versions of seldon_deploy_sdk will require that the username field is set in the Configuration object (under config.username). Subsequently, the authenticate() method won't accept a username parameter anymore.\n",
      "2021-09-13 15:42:02,392 WARNING DEPRECATED!! Future versions of seldon_deploy_sdk will require that the password field is set in the Configuration object (under config.password). Subsequently, the authenticate() method won't accept a password parameter anymore.\n"
     ]
    },
    {
     "data": {
      "text/plain": [
       "{'deployment': 'marco-paspuel-lr',\n",
       " 'deployment_namespace': None,\n",
       " 'namespace': 'test',\n",
       " 'params': {'drift_batch_size': None,\n",
       "            'env_secret_ref': None,\n",
       "            'event_source': 'io.seldon.serving.test-seldondeployment-marco-paspuel-lr-outlier',\n",
       "            'event_type': 'io.seldon.serving.inference.outlier',\n",
       "            'http_port': '8080',\n",
       "            'model_name': 'mahalobanis-od',\n",
       "            'protocol': 'seldon.http',\n",
       "            'reply_url': 'http://seldon-request-logger.seldon-logs',\n",
       "            'storage_uri': 'gs://tom-seldon-examples/deploy-workshop/marco-paspuel/lr/outlier_detector/',\n",
       "            'user_permission': 8888},\n",
       " 'prom_scraping': None,\n",
       " 'url': None}"
      ]
     },
     "execution_count": 59,
     "metadata": {},
     "output_type": "execute_result"
    }
   ],
   "source": [
    "od_api = OutlierDetectorApi(auth())\n",
    "od_api.create_outlier_detector_seldon_deployment(name=DEPLOYMENT_NAME,\n",
    "                                                 namespace=NAMESPACE,\n",
    "                                                 outlier_detector=od_config)"
   ]
  },
  {
   "cell_type": "code",
   "execution_count": null,
   "metadata": {},
   "outputs": [],
   "source": []
  }
 ],
 "metadata": {
  "colab": {
   "collapsed_sections": [],
   "name": "generic_workshop.ipynb",
   "provenance": [],
   "toc_visible": true
  },
  "kernelspec": {
   "display_name": "Python 3",
   "language": "python",
   "name": "python3"
  },
  "language_info": {
   "codemirror_mode": {
    "name": "ipython",
    "version": 3
   },
   "file_extension": ".py",
   "mimetype": "text/x-python",
   "name": "python",
   "nbconvert_exporter": "python",
   "pygments_lexer": "ipython3",
   "version": "3.8.8"
  }
 },
 "nbformat": 4,
 "nbformat_minor": 1
}
